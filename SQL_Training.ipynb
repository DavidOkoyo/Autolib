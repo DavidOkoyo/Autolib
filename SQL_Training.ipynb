{
  "nbformat": 4,
  "nbformat_minor": 0,
  "metadata": {
    "colab": {
      "name": "SQL Training.ipynb",
      "provenance": [],
      "collapsed_sections": [],
      "authorship_tag": "ABX9TyPyDQggIvxik8IOjR2fSnNL",
      "include_colab_link": true
    },
    "kernelspec": {
      "name": "python3",
      "display_name": "Python 3"
    },
    "language_info": {
      "name": "python"
    }
  },
  "cells": [
    {
      "cell_type": "markdown",
      "metadata": {
        "id": "view-in-github",
        "colab_type": "text"
      },
      "source": [
        "<a href=\"https://colab.research.google.com/github/DavidOkoyo/Autolib/blob/main/SQL_Training.ipynb\" target=\"_parent\"><img src=\"https://colab.research.google.com/assets/colab-badge.svg\" alt=\"Open In Colab\"/></a>"
      ]
    },
    {
      "cell_type": "code",
      "metadata": {
        "colab": {
          "base_uri": "https://localhost:8080/",
          "height": 69
        },
        "id": "FId27SpyN5os",
        "outputId": "d322a264-9b20-48a0-cd5f-1e304bc372e3"
      },
      "source": [
        "%load_ext sql\n",
        "%sql sqlite://"
      ],
      "execution_count": 7,
      "outputs": [
        {
          "output_type": "stream",
          "text": [
            "The sql extension is already loaded. To reload it, use:\n",
            "  %reload_ext sql\n"
          ],
          "name": "stdout"
        },
        {
          "output_type": "execute_result",
          "data": {
            "application/vnd.google.colaboratory.intrinsic+json": {
              "type": "string"
            },
            "text/plain": [
              "'Connected: @None'"
            ]
          },
          "metadata": {
            "tags": []
          },
          "execution_count": 7
        }
      ]
    },
    {
      "cell_type": "code",
      "metadata": {
        "id": "AFG0oqs2N_y1"
      },
      "source": [
        "import csv"
      ],
      "execution_count": 8,
      "outputs": []
    },
    {
      "cell_type": "code",
      "metadata": {
        "id": "-ck354TiOnO3"
      },
      "source": [
        "import pandas as pd"
      ],
      "execution_count": 9,
      "outputs": []
    },
    {
      "cell_type": "code",
      "metadata": {
        "id": "YsHfnIcJOsFq"
      },
      "source": [
        "with open('/content/Interpol (1).csv','r') as f:\n",
        "  Interpol=pd.read_csv(f, index_col=0, encoding='utf')"
      ],
      "execution_count": 10,
      "outputs": []
    },
    {
      "cell_type": "code",
      "metadata": {
        "colab": {
          "base_uri": "https://localhost:8080/",
          "height": 103
        },
        "id": "cSWEq8fnUTUy",
        "outputId": "a48b8ca2-0b31-4054-fee9-efa97ecfed68"
      },
      "source": [
        "%sql\n",
        "%sql DROP TABLE if EXISTS Interpol;\n",
        "%sql PERSIST Interpol"
      ],
      "execution_count": 11,
      "outputs": [
        {
          "output_type": "stream",
          "text": [
            " * sqlite://\n",
            " * sqlite://\n",
            "Done.\n",
            " * sqlite://\n"
          ],
          "name": "stdout"
        },
        {
          "output_type": "execute_result",
          "data": {
            "application/vnd.google.colaboratory.intrinsic+json": {
              "type": "string"
            },
            "text/plain": [
              "'Persisted interpol'"
            ]
          },
          "metadata": {
            "tags": []
          },
          "execution_count": 11
        }
      ]
    },
    {
      "cell_type": "code",
      "metadata": {
        "colab": {
          "base_uri": "https://localhost:8080/",
          "height": 281
        },
        "id": "FUpVn0DNVqje",
        "outputId": "b7209e51-ad59-477a-8015-2dabc9f8804e"
      },
      "source": [
        "%%sql\n",
        "SELECT * FROM interpol limit 5;\n"
      ],
      "execution_count": 12,
      "outputs": [
        {
          "output_type": "stream",
          "text": [
            " * sqlite://\n",
            "Done.\n"
          ],
          "name": "stdout"
        },
        {
          "output_type": "execute_result",
          "data": {
            "text/html": [
              "<table>\n",
              "    <thead>\n",
              "        <tr>\n",
              "            <th>Country</th>\n",
              "            <th>National Fugitives</th>\n",
              "            <th>Wanted Fugitives</th>\n",
              "            <th>Possible Hosted Fugitives / Captured Fugitives</th>\n",
              "            <th>Region</th>\n",
              "            <th>Flag</th>\n",
              "        </tr>\n",
              "    </thead>\n",
              "    <tbody>\n",
              "        <tr>\n",
              "            <td>Albania</td>\n",
              "            <td>3</td>\n",
              "            <td>3</td>\n",
              "            <td>0</td>\n",
              "            <td>Europe</td>\n",
              "            <td>http://www.crwflags.com/fotw/images/a/al.gif</td>\n",
              "        </tr>\n",
              "        <tr>\n",
              "            <td>Angola</td>\n",
              "            <td>0</td>\n",
              "            <td>0</td>\n",
              "            <td>1</td>\n",
              "            <td>Northern Africa</td>\n",
              "            <td>http://www.crwflags.com/fotw/images/a/ao.gif</td>\n",
              "        </tr>\n",
              "        <tr>\n",
              "            <td>Argentina</td>\n",
              "            <td>2</td>\n",
              "            <td>2</td>\n",
              "            <td>1</td>\n",
              "            <td>South America</td>\n",
              "            <td>http://www.crwflags.com/fotw/images/a/ar.gif</td>\n",
              "        </tr>\n",
              "        <tr>\n",
              "            <td>Australia</td>\n",
              "            <td>1</td>\n",
              "            <td>1</td>\n",
              "            <td>2</td>\n",
              "            <td>Oceania</td>\n",
              "            <td>http://www.crwflags.com/fotw/images/a/au.gif</td>\n",
              "        </tr>\n",
              "        <tr>\n",
              "            <td>Austria</td>\n",
              "            <td>1</td>\n",
              "            <td>1</td>\n",
              "            <td>0</td>\n",
              "            <td>Europe</td>\n",
              "            <td>http://www.crwflags.com/fotw/images/a/at.gif</td>\n",
              "        </tr>\n",
              "    </tbody>\n",
              "</table>"
            ],
            "text/plain": [
              "[('Albania', 3, 3, 0, 'Europe', 'http://www.crwflags.com/fotw/images/a/al.gif'),\n",
              " ('Angola', 0, 0, 1, 'Northern Africa', 'http://www.crwflags.com/fotw/images/a/ao.gif'),\n",
              " ('Argentina', 2, 2, 1, 'South America', 'http://www.crwflags.com/fotw/images/a/ar.gif'),\n",
              " ('Australia', 1, 1, 2, 'Oceania', 'http://www.crwflags.com/fotw/images/a/au.gif'),\n",
              " ('Austria', 1, 1, 0, 'Europe', 'http://www.crwflags.com/fotw/images/a/at.gif')]"
            ]
          },
          "metadata": {
            "tags": []
          },
          "execution_count": 12
        }
      ]
    },
    {
      "cell_type": "code",
      "metadata": {
        "colab": {
          "base_uri": "https://localhost:8080/",
          "height": 179
        },
        "id": "1OYHMzsiWAl5",
        "outputId": "2e284da3-42f0-4dcd-d89c-031288932c03"
      },
      "source": [
        "%%sql\n",
        "SELECT Region, \"Wanted Fugitives\" ,\"Country\" FROM Interpol limit 5;"
      ],
      "execution_count": 13,
      "outputs": [
        {
          "output_type": "stream",
          "text": [
            " * sqlite://\n",
            "Done.\n"
          ],
          "name": "stdout"
        },
        {
          "output_type": "execute_result",
          "data": {
            "text/html": [
              "<table>\n",
              "    <thead>\n",
              "        <tr>\n",
              "            <th>Region</th>\n",
              "            <th>Wanted Fugitives</th>\n",
              "            <th>Country</th>\n",
              "        </tr>\n",
              "    </thead>\n",
              "    <tbody>\n",
              "        <tr>\n",
              "            <td>Europe</td>\n",
              "            <td>3</td>\n",
              "            <td>Albania</td>\n",
              "        </tr>\n",
              "        <tr>\n",
              "            <td>Northern Africa</td>\n",
              "            <td>0</td>\n",
              "            <td>Angola</td>\n",
              "        </tr>\n",
              "        <tr>\n",
              "            <td>South America</td>\n",
              "            <td>2</td>\n",
              "            <td>Argentina</td>\n",
              "        </tr>\n",
              "        <tr>\n",
              "            <td>Oceania</td>\n",
              "            <td>1</td>\n",
              "            <td>Australia</td>\n",
              "        </tr>\n",
              "        <tr>\n",
              "            <td>Europe</td>\n",
              "            <td>1</td>\n",
              "            <td>Austria</td>\n",
              "        </tr>\n",
              "    </tbody>\n",
              "</table>"
            ],
            "text/plain": [
              "[('Europe', 3, 'Albania'),\n",
              " ('Northern Africa', 0, 'Angola'),\n",
              " ('South America', 2, 'Argentina'),\n",
              " ('Oceania', 1, 'Australia'),\n",
              " ('Europe', 1, 'Austria')]"
            ]
          },
          "metadata": {
            "tags": []
          },
          "execution_count": 13
        }
      ]
    },
    {
      "cell_type": "code",
      "metadata": {
        "colab": {
          "base_uri": "https://localhost:8080/",
          "height": 284
        },
        "id": "ZeD3uVCUWfix",
        "outputId": "ee483a4c-d219-459a-a0d6-ff45a9fbaf42"
      },
      "source": [
        "%%sql\n",
        "SELECT DISTINCT Region FROM Interpol limit6;"
      ],
      "execution_count": 14,
      "outputs": [
        {
          "output_type": "stream",
          "text": [
            " * sqlite://\n",
            "Done.\n"
          ],
          "name": "stdout"
        },
        {
          "output_type": "execute_result",
          "data": {
            "text/html": [
              "<table>\n",
              "    <thead>\n",
              "        <tr>\n",
              "            <th>Region</th>\n",
              "        </tr>\n",
              "    </thead>\n",
              "    <tbody>\n",
              "        <tr>\n",
              "            <td>Europe</td>\n",
              "        </tr>\n",
              "        <tr>\n",
              "            <td>Northern Africa</td>\n",
              "        </tr>\n",
              "        <tr>\n",
              "            <td>South America</td>\n",
              "        </tr>\n",
              "        <tr>\n",
              "            <td>Oceania</td>\n",
              "        </tr>\n",
              "        <tr>\n",
              "            <td>Asia</td>\n",
              "        </tr>\n",
              "        <tr>\n",
              "            <td>Central America</td>\n",
              "        </tr>\n",
              "        <tr>\n",
              "            <td>Southern Africa</td>\n",
              "        </tr>\n",
              "        <tr>\n",
              "            <td>North America</td>\n",
              "        </tr>\n",
              "        <tr>\n",
              "            <td>Sub Saharan Africa</td>\n",
              "        </tr>\n",
              "        <tr>\n",
              "            <td>Europe, Asia</td>\n",
              "        </tr>\n",
              "    </tbody>\n",
              "</table>"
            ],
            "text/plain": [
              "[('Europe',),\n",
              " ('Northern Africa',),\n",
              " ('South America',),\n",
              " ('Oceania',),\n",
              " ('Asia',),\n",
              " ('Central America',),\n",
              " ('Southern Africa',),\n",
              " ('North America',),\n",
              " ('Sub Saharan Africa',),\n",
              " ('Europe, Asia',)]"
            ]
          },
          "metadata": {
            "tags": []
          },
          "execution_count": 14
        }
      ]
    },
    {
      "cell_type": "code",
      "metadata": {
        "colab": {
          "base_uri": "https://localhost:8080/",
          "height": 95
        },
        "id": "8V5LpO7YboEw",
        "outputId": "6cd2987d-fe4c-49e8-d5d5-0280e02ef0b0"
      },
      "source": [
        "%%sql\n",
        "SELECT COUNT(DISTINCT Country) FROM Interpol"
      ],
      "execution_count": 15,
      "outputs": [
        {
          "output_type": "stream",
          "text": [
            " * sqlite://\n",
            "Done.\n"
          ],
          "name": "stdout"
        },
        {
          "output_type": "execute_result",
          "data": {
            "text/html": [
              "<table>\n",
              "    <thead>\n",
              "        <tr>\n",
              "            <th>COUNT(DISTINCT Country)</th>\n",
              "        </tr>\n",
              "    </thead>\n",
              "    <tbody>\n",
              "        <tr>\n",
              "            <td>78</td>\n",
              "        </tr>\n",
              "    </tbody>\n",
              "</table>"
            ],
            "text/plain": [
              "[(78,)]"
            ]
          },
          "metadata": {
            "tags": []
          },
          "execution_count": 15
        }
      ]
    },
    {
      "cell_type": "code",
      "metadata": {
        "colab": {
          "base_uri": "https://localhost:8080/",
          "height": 179
        },
        "id": "9qI7R6HTgu8C",
        "outputId": "b0d84a4e-d850-489b-e1b1-66dd92652c2f"
      },
      "source": [
        "%%sql\n",
        "SELECT Region,\"Wanted Fugitives\",\"Country\" FROM Interpol limit 5;"
      ],
      "execution_count": 16,
      "outputs": [
        {
          "output_type": "stream",
          "text": [
            " * sqlite://\n",
            "Done.\n"
          ],
          "name": "stdout"
        },
        {
          "output_type": "execute_result",
          "data": {
            "text/html": [
              "<table>\n",
              "    <thead>\n",
              "        <tr>\n",
              "            <th>Region</th>\n",
              "            <th>Wanted Fugitives</th>\n",
              "            <th>Country</th>\n",
              "        </tr>\n",
              "    </thead>\n",
              "    <tbody>\n",
              "        <tr>\n",
              "            <td>Europe</td>\n",
              "            <td>3</td>\n",
              "            <td>Albania</td>\n",
              "        </tr>\n",
              "        <tr>\n",
              "            <td>Northern Africa</td>\n",
              "            <td>0</td>\n",
              "            <td>Angola</td>\n",
              "        </tr>\n",
              "        <tr>\n",
              "            <td>South America</td>\n",
              "            <td>2</td>\n",
              "            <td>Argentina</td>\n",
              "        </tr>\n",
              "        <tr>\n",
              "            <td>Oceania</td>\n",
              "            <td>1</td>\n",
              "            <td>Australia</td>\n",
              "        </tr>\n",
              "        <tr>\n",
              "            <td>Europe</td>\n",
              "            <td>1</td>\n",
              "            <td>Austria</td>\n",
              "        </tr>\n",
              "    </tbody>\n",
              "</table>"
            ],
            "text/plain": [
              "[('Europe', 3, 'Albania'),\n",
              " ('Northern Africa', 0, 'Angola'),\n",
              " ('South America', 2, 'Argentina'),\n",
              " ('Oceania', 1, 'Australia'),\n",
              " ('Europe', 1, 'Austria')]"
            ]
          },
          "metadata": {
            "tags": []
          },
          "execution_count": 16
        }
      ]
    },
    {
      "cell_type": "code",
      "metadata": {
        "colab": {
          "base_uri": "https://localhost:8080/",
          "height": 200
        },
        "id": "W9iMBJT0hshi",
        "outputId": "6c6c7e25-6d33-4973-a699-14384b99d6a3"
      },
      "source": [
        "%%sql \n",
        "SELECT Country,\"National Fugitives\",\"Wanted Fugitives\" FROM Interpol limit 6;"
      ],
      "execution_count": 17,
      "outputs": [
        {
          "output_type": "stream",
          "text": [
            " * sqlite://\n",
            "Done.\n"
          ],
          "name": "stdout"
        },
        {
          "output_type": "execute_result",
          "data": {
            "text/html": [
              "<table>\n",
              "    <thead>\n",
              "        <tr>\n",
              "            <th>Country</th>\n",
              "            <th>National Fugitives</th>\n",
              "            <th>Wanted Fugitives</th>\n",
              "        </tr>\n",
              "    </thead>\n",
              "    <tbody>\n",
              "        <tr>\n",
              "            <td>Albania</td>\n",
              "            <td>3</td>\n",
              "            <td>3</td>\n",
              "        </tr>\n",
              "        <tr>\n",
              "            <td>Angola</td>\n",
              "            <td>0</td>\n",
              "            <td>0</td>\n",
              "        </tr>\n",
              "        <tr>\n",
              "            <td>Argentina</td>\n",
              "            <td>2</td>\n",
              "            <td>2</td>\n",
              "        </tr>\n",
              "        <tr>\n",
              "            <td>Australia</td>\n",
              "            <td>1</td>\n",
              "            <td>1</td>\n",
              "        </tr>\n",
              "        <tr>\n",
              "            <td>Austria</td>\n",
              "            <td>1</td>\n",
              "            <td>1</td>\n",
              "        </tr>\n",
              "        <tr>\n",
              "            <td>Bangladesh</td>\n",
              "            <td>2</td>\n",
              "            <td>1</td>\n",
              "        </tr>\n",
              "    </tbody>\n",
              "</table>"
            ],
            "text/plain": [
              "[('Albania', 3, 3),\n",
              " ('Angola', 0, 0),\n",
              " ('Argentina', 2, 2),\n",
              " ('Australia', 1, 1),\n",
              " ('Austria', 1, 1),\n",
              " ('Bangladesh', 2, 1)]"
            ]
          },
          "metadata": {
            "tags": []
          },
          "execution_count": 17
        }
      ]
    },
    {
      "cell_type": "code",
      "metadata": {
        "colab": {
          "base_uri": "https://localhost:8080/",
          "height": 213
        },
        "id": "rULPKHacls2K",
        "outputId": "51201bb2-3441-4319-8d98-58ecadc8b8e5"
      },
      "source": [
        "%%sql\n",
        "SELECT Country,\"Region\",\"Flag\",\"Possible Hosted Fugitives\" FROM Interpol Limit 5;"
      ],
      "execution_count": 18,
      "outputs": [
        {
          "output_type": "stream",
          "text": [
            " * sqlite://\n",
            "Done.\n"
          ],
          "name": "stdout"
        },
        {
          "output_type": "execute_result",
          "data": {
            "text/html": [
              "<table>\n",
              "    <thead>\n",
              "        <tr>\n",
              "            <th>Country</th>\n",
              "            <th>Region</th>\n",
              "            <th>Flag</th>\n",
              "            <th>&quot;Possible Hosted Fugitives&quot;</th>\n",
              "        </tr>\n",
              "    </thead>\n",
              "    <tbody>\n",
              "        <tr>\n",
              "            <td>Albania</td>\n",
              "            <td>Europe</td>\n",
              "            <td>http://www.crwflags.com/fotw/images/a/al.gif</td>\n",
              "            <td>Possible Hosted Fugitives</td>\n",
              "        </tr>\n",
              "        <tr>\n",
              "            <td>Angola</td>\n",
              "            <td>Northern Africa</td>\n",
              "            <td>http://www.crwflags.com/fotw/images/a/ao.gif</td>\n",
              "            <td>Possible Hosted Fugitives</td>\n",
              "        </tr>\n",
              "        <tr>\n",
              "            <td>Argentina</td>\n",
              "            <td>South America</td>\n",
              "            <td>http://www.crwflags.com/fotw/images/a/ar.gif</td>\n",
              "            <td>Possible Hosted Fugitives</td>\n",
              "        </tr>\n",
              "        <tr>\n",
              "            <td>Australia</td>\n",
              "            <td>Oceania</td>\n",
              "            <td>http://www.crwflags.com/fotw/images/a/au.gif</td>\n",
              "            <td>Possible Hosted Fugitives</td>\n",
              "        </tr>\n",
              "        <tr>\n",
              "            <td>Austria</td>\n",
              "            <td>Europe</td>\n",
              "            <td>http://www.crwflags.com/fotw/images/a/at.gif</td>\n",
              "            <td>Possible Hosted Fugitives</td>\n",
              "        </tr>\n",
              "    </tbody>\n",
              "</table>"
            ],
            "text/plain": [
              "[('Albania', 'Europe', 'http://www.crwflags.com/fotw/images/a/al.gif', 'Possible Hosted Fugitives'),\n",
              " ('Angola', 'Northern Africa', 'http://www.crwflags.com/fotw/images/a/ao.gif', 'Possible Hosted Fugitives'),\n",
              " ('Argentina', 'South America', 'http://www.crwflags.com/fotw/images/a/ar.gif', 'Possible Hosted Fugitives'),\n",
              " ('Australia', 'Oceania', 'http://www.crwflags.com/fotw/images/a/au.gif', 'Possible Hosted Fugitives'),\n",
              " ('Austria', 'Europe', 'http://www.crwflags.com/fotw/images/a/at.gif', 'Possible Hosted Fugitives')]"
            ]
          },
          "metadata": {
            "tags": []
          },
          "execution_count": 18
        }
      ]
    },
    {
      "cell_type": "code",
      "metadata": {
        "colab": {
          "base_uri": "https://localhost:8080/",
          "height": 179
        },
        "id": "spOmAewymLAS",
        "outputId": "68f5e2d3-1ac1-4bc0-85b7-43e84100b4c9"
      },
      "source": [
        "%%sql\n",
        "SELECT Region,\"Wanted Fugitives\" FROM Interpol Limit 5;"
      ],
      "execution_count": 19,
      "outputs": [
        {
          "output_type": "stream",
          "text": [
            " * sqlite://\n",
            "Done.\n"
          ],
          "name": "stdout"
        },
        {
          "output_type": "execute_result",
          "data": {
            "text/html": [
              "<table>\n",
              "    <thead>\n",
              "        <tr>\n",
              "            <th>Region</th>\n",
              "            <th>Wanted Fugitives</th>\n",
              "        </tr>\n",
              "    </thead>\n",
              "    <tbody>\n",
              "        <tr>\n",
              "            <td>Europe</td>\n",
              "            <td>3</td>\n",
              "        </tr>\n",
              "        <tr>\n",
              "            <td>Northern Africa</td>\n",
              "            <td>0</td>\n",
              "        </tr>\n",
              "        <tr>\n",
              "            <td>South America</td>\n",
              "            <td>2</td>\n",
              "        </tr>\n",
              "        <tr>\n",
              "            <td>Oceania</td>\n",
              "            <td>1</td>\n",
              "        </tr>\n",
              "        <tr>\n",
              "            <td>Europe</td>\n",
              "            <td>1</td>\n",
              "        </tr>\n",
              "    </tbody>\n",
              "</table>"
            ],
            "text/plain": [
              "[('Europe', 3),\n",
              " ('Northern Africa', 0),\n",
              " ('South America', 2),\n",
              " ('Oceania', 1),\n",
              " ('Europe', 1)]"
            ]
          },
          "metadata": {
            "tags": []
          },
          "execution_count": 19
        }
      ]
    },
    {
      "cell_type": "code",
      "metadata": {
        "colab": {
          "base_uri": "https://localhost:8080/",
          "height": 218
        },
        "id": "kzjmbBe0nJMo",
        "outputId": "fdba5524-ae98-4b3f-98d8-98c921410834"
      },
      "source": [
        "%%sql\n",
        "SELECT * FROM Interpol WHERE Region='Northern Africa';"
      ],
      "execution_count": 20,
      "outputs": [
        {
          "output_type": "stream",
          "text": [
            " * sqlite://\n",
            "Done.\n"
          ],
          "name": "stdout"
        },
        {
          "output_type": "execute_result",
          "data": {
            "text/html": [
              "<table>\n",
              "    <thead>\n",
              "        <tr>\n",
              "            <th>Country</th>\n",
              "            <th>National Fugitives</th>\n",
              "            <th>Wanted Fugitives</th>\n",
              "            <th>Possible Hosted Fugitives / Captured Fugitives</th>\n",
              "            <th>Region</th>\n",
              "            <th>Flag</th>\n",
              "        </tr>\n",
              "    </thead>\n",
              "    <tbody>\n",
              "        <tr>\n",
              "            <td>Angola</td>\n",
              "            <td>0</td>\n",
              "            <td>0</td>\n",
              "            <td>1</td>\n",
              "            <td>Northern Africa</td>\n",
              "            <td>http://www.crwflags.com/fotw/images/a/ao.gif</td>\n",
              "        </tr>\n",
              "        <tr>\n",
              "            <td>Morocco</td>\n",
              "            <td>2</td>\n",
              "            <td>0</td>\n",
              "            <td>3</td>\n",
              "            <td>Northern Africa</td>\n",
              "            <td>http://www.crwflags.com/fotw/images/m/ma.gif</td>\n",
              "        </tr>\n",
              "    </tbody>\n",
              "</table>"
            ],
            "text/plain": [
              "[('Angola', 0, 0, 1, 'Northern Africa', 'http://www.crwflags.com/fotw/images/a/ao.gif'),\n",
              " ('Morocco', 2, 0, 3, 'Northern Africa', 'http://www.crwflags.com/fotw/images/m/ma.gif')]"
            ]
          },
          "metadata": {
            "tags": []
          },
          "execution_count": 20
        }
      ]
    },
    {
      "cell_type": "code",
      "metadata": {
        "colab": {
          "base_uri": "https://localhost:8080/",
          "height": 201
        },
        "id": "PUdWvNOsnh-v",
        "outputId": "b20052a1-25da-4b7e-c0e4-0d466c272c9b"
      },
      "source": [
        "%%sql \n",
        "SELECT * FROM Interpol WHERE Region='Oceania';"
      ],
      "execution_count": 21,
      "outputs": [
        {
          "output_type": "stream",
          "text": [
            " * sqlite://\n",
            "Done.\n"
          ],
          "name": "stdout"
        },
        {
          "output_type": "execute_result",
          "data": {
            "text/html": [
              "<table>\n",
              "    <thead>\n",
              "        <tr>\n",
              "            <th>Country</th>\n",
              "            <th>National Fugitives</th>\n",
              "            <th>Wanted Fugitives</th>\n",
              "            <th>Possible Hosted Fugitives / Captured Fugitives</th>\n",
              "            <th>Region</th>\n",
              "            <th>Flag</th>\n",
              "        </tr>\n",
              "    </thead>\n",
              "    <tbody>\n",
              "        <tr>\n",
              "            <td>Australia</td>\n",
              "            <td>1</td>\n",
              "            <td>1</td>\n",
              "            <td>2</td>\n",
              "            <td>Oceania</td>\n",
              "            <td>http://www.crwflags.com/fotw/images/a/au.gif</td>\n",
              "        </tr>\n",
              "        <tr>\n",
              "            <td>New Zealand</td>\n",
              "            <td>0</td>\n",
              "            <td>0</td>\n",
              "            <td>1</td>\n",
              "            <td>Oceania</td>\n",
              "            <td>http://www.crwflags.com/fotw/images/n/nz.gif</td>\n",
              "        </tr>\n",
              "    </tbody>\n",
              "</table>"
            ],
            "text/plain": [
              "[('Australia', 1, 1, 2, 'Oceania', 'http://www.crwflags.com/fotw/images/a/au.gif'),\n",
              " ('New Zealand', 0, 0, 1, 'Oceania', 'http://www.crwflags.com/fotw/images/n/nz.gif')]"
            ]
          },
          "metadata": {
            "tags": []
          },
          "execution_count": 21
        }
      ]
    },
    {
      "cell_type": "code",
      "metadata": {
        "colab": {
          "base_uri": "https://localhost:8080/",
          "height": 158
        },
        "id": "wqoZEJs4n42B",
        "outputId": "a030d77a-c9df-46ee-8144-7e6fabd56d08"
      },
      "source": [
        "%%sql\n",
        "SELECT Country,\"Wanted Fugitives\",\"Flag\",\"Wanted Fugitives\" FROM Interpol Limit 4;"
      ],
      "execution_count": 22,
      "outputs": [
        {
          "output_type": "stream",
          "text": [
            " * sqlite://\n",
            "Done.\n"
          ],
          "name": "stdout"
        },
        {
          "output_type": "execute_result",
          "data": {
            "text/html": [
              "<table>\n",
              "    <thead>\n",
              "        <tr>\n",
              "            <th>Country</th>\n",
              "            <th>Wanted Fugitives</th>\n",
              "            <th>Flag</th>\n",
              "            <th>Wanted Fugitives_1</th>\n",
              "        </tr>\n",
              "    </thead>\n",
              "    <tbody>\n",
              "        <tr>\n",
              "            <td>Albania</td>\n",
              "            <td>3</td>\n",
              "            <td>http://www.crwflags.com/fotw/images/a/al.gif</td>\n",
              "            <td>3</td>\n",
              "        </tr>\n",
              "        <tr>\n",
              "            <td>Angola</td>\n",
              "            <td>0</td>\n",
              "            <td>http://www.crwflags.com/fotw/images/a/ao.gif</td>\n",
              "            <td>0</td>\n",
              "        </tr>\n",
              "        <tr>\n",
              "            <td>Argentina</td>\n",
              "            <td>2</td>\n",
              "            <td>http://www.crwflags.com/fotw/images/a/ar.gif</td>\n",
              "            <td>2</td>\n",
              "        </tr>\n",
              "        <tr>\n",
              "            <td>Australia</td>\n",
              "            <td>1</td>\n",
              "            <td>http://www.crwflags.com/fotw/images/a/au.gif</td>\n",
              "            <td>1</td>\n",
              "        </tr>\n",
              "    </tbody>\n",
              "</table>"
            ],
            "text/plain": [
              "[('Albania', 3, 'http://www.crwflags.com/fotw/images/a/al.gif', 3),\n",
              " ('Angola', 0, 'http://www.crwflags.com/fotw/images/a/ao.gif', 0),\n",
              " ('Argentina', 2, 'http://www.crwflags.com/fotw/images/a/ar.gif', 2),\n",
              " ('Australia', 1, 'http://www.crwflags.com/fotw/images/a/au.gif', 1)]"
            ]
          },
          "metadata": {
            "tags": []
          },
          "execution_count": 22
        }
      ]
    },
    {
      "cell_type": "code",
      "metadata": {
        "colab": {
          "base_uri": "https://localhost:8080/",
          "height": 263
        },
        "id": "6MQPHqavo8l_",
        "outputId": "11524b81-95fe-4f06-f6fe-ad2b397d1fab"
      },
      "source": [
        " %%sql\n",
        " SELECT Region, \"Wanted Fugitives\",\"National Fugitives\" FROM Interpol Limit 9 "
      ],
      "execution_count": 23,
      "outputs": [
        {
          "output_type": "stream",
          "text": [
            " * sqlite://\n",
            "Done.\n"
          ],
          "name": "stdout"
        },
        {
          "output_type": "execute_result",
          "data": {
            "text/html": [
              "<table>\n",
              "    <thead>\n",
              "        <tr>\n",
              "            <th>Region</th>\n",
              "            <th>Wanted Fugitives</th>\n",
              "            <th>National Fugitives</th>\n",
              "        </tr>\n",
              "    </thead>\n",
              "    <tbody>\n",
              "        <tr>\n",
              "            <td>Europe</td>\n",
              "            <td>3</td>\n",
              "            <td>3</td>\n",
              "        </tr>\n",
              "        <tr>\n",
              "            <td>Northern Africa</td>\n",
              "            <td>0</td>\n",
              "            <td>0</td>\n",
              "        </tr>\n",
              "        <tr>\n",
              "            <td>South America</td>\n",
              "            <td>2</td>\n",
              "            <td>2</td>\n",
              "        </tr>\n",
              "        <tr>\n",
              "            <td>Oceania</td>\n",
              "            <td>1</td>\n",
              "            <td>1</td>\n",
              "        </tr>\n",
              "        <tr>\n",
              "            <td>Europe</td>\n",
              "            <td>1</td>\n",
              "            <td>1</td>\n",
              "        </tr>\n",
              "        <tr>\n",
              "            <td>Asia</td>\n",
              "            <td>1</td>\n",
              "            <td>2</td>\n",
              "        </tr>\n",
              "        <tr>\n",
              "            <td>Europe</td>\n",
              "            <td>1</td>\n",
              "            <td>1</td>\n",
              "        </tr>\n",
              "        <tr>\n",
              "            <td>Europe</td>\n",
              "            <td>2</td>\n",
              "            <td>0</td>\n",
              "        </tr>\n",
              "        <tr>\n",
              "            <td>Central America</td>\n",
              "            <td>1</td>\n",
              "            <td>1</td>\n",
              "        </tr>\n",
              "    </tbody>\n",
              "</table>"
            ],
            "text/plain": [
              "[('Europe', 3, 3),\n",
              " ('Northern Africa', 0, 0),\n",
              " ('South America', 2, 2),\n",
              " ('Oceania', 1, 1),\n",
              " ('Europe', 1, 1),\n",
              " ('Asia', 1, 2),\n",
              " ('Europe', 1, 1),\n",
              " ('Europe', 2, 0),\n",
              " ('Central America', 1, 1)]"
            ]
          },
          "metadata": {
            "tags": []
          },
          "execution_count": 23
        }
      ]
    },
    {
      "cell_type": "code",
      "metadata": {
        "colab": {
          "base_uri": "https://localhost:8080/",
          "height": 179
        },
        "id": "gxM_mRHtqFsg",
        "outputId": "8c3e020f-92da-443e-d499-8b2b76b99897"
      },
      "source": [
        "%%sql\n",
        "SELECT Country,Region,\"Wanted Fugitives\", \"National Fugitives\"\n",
        "FROM Interpol\n",
        "WHERE \"Wanted Fugitives\"=3 OR \"National Fugitives\"=6"
      ],
      "execution_count": 24,
      "outputs": [
        {
          "output_type": "stream",
          "text": [
            " * sqlite://\n",
            "Done.\n"
          ],
          "name": "stdout"
        },
        {
          "output_type": "execute_result",
          "data": {
            "text/html": [
              "<table>\n",
              "    <thead>\n",
              "        <tr>\n",
              "            <th>Country</th>\n",
              "            <th>Region</th>\n",
              "            <th>Wanted Fugitives</th>\n",
              "            <th>National Fugitives</th>\n",
              "        </tr>\n",
              "    </thead>\n",
              "    <tbody>\n",
              "        <tr>\n",
              "            <td>Albania</td>\n",
              "            <td>Europe</td>\n",
              "            <td>3</td>\n",
              "            <td>3</td>\n",
              "        </tr>\n",
              "        <tr>\n",
              "            <td>Czech Republic</td>\n",
              "            <td>Europe</td>\n",
              "            <td>3</td>\n",
              "            <td>3</td>\n",
              "        </tr>\n",
              "        <tr>\n",
              "            <td>Sweden</td>\n",
              "            <td>Europe</td>\n",
              "            <td>3</td>\n",
              "            <td>2</td>\n",
              "        </tr>\n",
              "        <tr>\n",
              "            <td>The Netherlands</td>\n",
              "            <td>Europe</td>\n",
              "            <td>3</td>\n",
              "            <td>6</td>\n",
              "        </tr>\n",
              "        <tr>\n",
              "            <td>United Kingdom</td>\n",
              "            <td>Europe</td>\n",
              "            <td>4</td>\n",
              "            <td>6</td>\n",
              "        </tr>\n",
              "    </tbody>\n",
              "</table>"
            ],
            "text/plain": [
              "[('Albania', 'Europe', 3, 3),\n",
              " ('Czech Republic', 'Europe', 3, 3),\n",
              " ('Sweden', 'Europe', 3, 2),\n",
              " ('The Netherlands', 'Europe', 3, 6),\n",
              " ('United Kingdom', 'Europe', 4, 6)]"
            ]
          },
          "metadata": {
            "tags": []
          },
          "execution_count": 24
        }
      ]
    },
    {
      "cell_type": "code",
      "metadata": {
        "colab": {
          "base_uri": "https://localhost:8080/",
          "height": 163
        },
        "id": "EUvr717ArqhQ",
        "outputId": "b32f8d4f-e643-40ea-cde3-5977e69a0797"
      },
      "source": [
        "%%sql\n",
        "SELECT * FROM Interpol\n",
        "WHERE Country='Albania' AND Region='Europe'"
      ],
      "execution_count": 25,
      "outputs": [
        {
          "output_type": "stream",
          "text": [
            " * sqlite://\n",
            "Done.\n"
          ],
          "name": "stdout"
        },
        {
          "output_type": "execute_result",
          "data": {
            "text/html": [
              "<table>\n",
              "    <thead>\n",
              "        <tr>\n",
              "            <th>Country</th>\n",
              "            <th>National Fugitives</th>\n",
              "            <th>Wanted Fugitives</th>\n",
              "            <th>Possible Hosted Fugitives / Captured Fugitives</th>\n",
              "            <th>Region</th>\n",
              "            <th>Flag</th>\n",
              "        </tr>\n",
              "    </thead>\n",
              "    <tbody>\n",
              "        <tr>\n",
              "            <td>Albania</td>\n",
              "            <td>3</td>\n",
              "            <td>3</td>\n",
              "            <td>0</td>\n",
              "            <td>Europe</td>\n",
              "            <td>http://www.crwflags.com/fotw/images/a/al.gif</td>\n",
              "        </tr>\n",
              "    </tbody>\n",
              "</table>"
            ],
            "text/plain": [
              "[('Albania', 3, 3, 0, 'Europe', 'http://www.crwflags.com/fotw/images/a/al.gif')]"
            ]
          },
          "metadata": {
            "tags": []
          },
          "execution_count": 25
        }
      ]
    },
    {
      "cell_type": "code",
      "metadata": {
        "colab": {
          "base_uri": "https://localhost:8080/",
          "height": 315
        },
        "id": "6HaXVpOhtGPL",
        "outputId": "90c91aa2-114a-49b4-ab92-954b13f9b851"
      },
      "source": [
        "%%sql\n",
        "SELECT * FROM Interpol\n",
        "WHERE NOT Region='Europe' limit 5;"
      ],
      "execution_count": 26,
      "outputs": [
        {
          "output_type": "stream",
          "text": [
            " * sqlite://\n",
            "Done.\n"
          ],
          "name": "stdout"
        },
        {
          "output_type": "execute_result",
          "data": {
            "text/html": [
              "<table>\n",
              "    <thead>\n",
              "        <tr>\n",
              "            <th>Country</th>\n",
              "            <th>National Fugitives</th>\n",
              "            <th>Wanted Fugitives</th>\n",
              "            <th>Possible Hosted Fugitives / Captured Fugitives</th>\n",
              "            <th>Region</th>\n",
              "            <th>Flag</th>\n",
              "        </tr>\n",
              "    </thead>\n",
              "    <tbody>\n",
              "        <tr>\n",
              "            <td>Angola</td>\n",
              "            <td>0</td>\n",
              "            <td>0</td>\n",
              "            <td>1</td>\n",
              "            <td>Northern Africa</td>\n",
              "            <td>http://www.crwflags.com/fotw/images/a/ao.gif</td>\n",
              "        </tr>\n",
              "        <tr>\n",
              "            <td>Argentina</td>\n",
              "            <td>2</td>\n",
              "            <td>2</td>\n",
              "            <td>1</td>\n",
              "            <td>South America</td>\n",
              "            <td>http://www.crwflags.com/fotw/images/a/ar.gif</td>\n",
              "        </tr>\n",
              "        <tr>\n",
              "            <td>Australia</td>\n",
              "            <td>1</td>\n",
              "            <td>1</td>\n",
              "            <td>2</td>\n",
              "            <td>Oceania</td>\n",
              "            <td>http://www.crwflags.com/fotw/images/a/au.gif</td>\n",
              "        </tr>\n",
              "        <tr>\n",
              "            <td>Bangladesh</td>\n",
              "            <td>2</td>\n",
              "            <td>1</td>\n",
              "            <td>1</td>\n",
              "            <td>Asia</td>\n",
              "            <td>http://www.crwflags.com/fotw/images/b/bd.gif</td>\n",
              "        </tr>\n",
              "        <tr>\n",
              "            <td>Belize</td>\n",
              "            <td>1</td>\n",
              "            <td>1</td>\n",
              "            <td>0</td>\n",
              "            <td>Central America</td>\n",
              "            <td>http://www.crwflags.com/fotw/images/b/bz.gif</td>\n",
              "        </tr>\n",
              "    </tbody>\n",
              "</table>"
            ],
            "text/plain": [
              "[('Angola', 0, 0, 1, 'Northern Africa', 'http://www.crwflags.com/fotw/images/a/ao.gif'),\n",
              " ('Argentina', 2, 2, 1, 'South America', 'http://www.crwflags.com/fotw/images/a/ar.gif'),\n",
              " ('Australia', 1, 1, 2, 'Oceania', 'http://www.crwflags.com/fotw/images/a/au.gif'),\n",
              " ('Bangladesh', 2, 1, 1, 'Asia', 'http://www.crwflags.com/fotw/images/b/bd.gif'),\n",
              " ('Belize', 1, 1, 0, 'Central America', 'http://www.crwflags.com/fotw/images/b/bz.gif')]"
            ]
          },
          "metadata": {
            "tags": []
          },
          "execution_count": 26
        }
      ]
    },
    {
      "cell_type": "code",
      "metadata": {
        "colab": {
          "base_uri": "https://localhost:8080/",
          "height": 221
        },
        "id": "b5DPDhWFumfM",
        "outputId": "d724b507-d8b3-4dea-a21d-2ec4df9e3fde"
      },
      "source": [
        "%%sql\n",
        "SELECT Region, \"National Fugitives\",\"Wanted Fugitives\"\n",
        "FROM Interpol\n",
        "ORDER BY \"National Fugitives\",\"Wanted Fugitives\" asc Limit 7;"
      ],
      "execution_count": 27,
      "outputs": [
        {
          "output_type": "stream",
          "text": [
            " * sqlite://\n",
            "Done.\n"
          ],
          "name": "stdout"
        },
        {
          "output_type": "execute_result",
          "data": {
            "text/html": [
              "<table>\n",
              "    <thead>\n",
              "        <tr>\n",
              "            <th>Region</th>\n",
              "            <th>National Fugitives</th>\n",
              "            <th>Wanted Fugitives</th>\n",
              "        </tr>\n",
              "    </thead>\n",
              "    <tbody>\n",
              "        <tr>\n",
              "            <td>Northern Africa</td>\n",
              "            <td>0</td>\n",
              "            <td>0</td>\n",
              "        </tr>\n",
              "        <tr>\n",
              "            <td>South America</td>\n",
              "            <td>0</td>\n",
              "            <td>0</td>\n",
              "        </tr>\n",
              "        <tr>\n",
              "            <td>Asia</td>\n",
              "            <td>0</td>\n",
              "            <td>0</td>\n",
              "        </tr>\n",
              "        <tr>\n",
              "            <td>Central America</td>\n",
              "            <td>0</td>\n",
              "            <td>0</td>\n",
              "        </tr>\n",
              "        <tr>\n",
              "            <td>Sub Saharan Africa</td>\n",
              "            <td>0</td>\n",
              "            <td>0</td>\n",
              "        </tr>\n",
              "        <tr>\n",
              "            <td>South America</td>\n",
              "            <td>0</td>\n",
              "            <td>0</td>\n",
              "        </tr>\n",
              "        <tr>\n",
              "            <td>Europe</td>\n",
              "            <td>0</td>\n",
              "            <td>0</td>\n",
              "        </tr>\n",
              "    </tbody>\n",
              "</table>"
            ],
            "text/plain": [
              "[('Northern Africa', 0, 0),\n",
              " ('South America', 0, 0),\n",
              " ('Asia', 0, 0),\n",
              " ('Central America', 0, 0),\n",
              " ('Sub Saharan Africa', 0, 0),\n",
              " ('South America', 0, 0),\n",
              " ('Europe', 0, 0)]"
            ]
          },
          "metadata": {
            "tags": []
          },
          "execution_count": 27
        }
      ]
    },
    {
      "cell_type": "code",
      "metadata": {
        "colab": {
          "base_uri": "https://localhost:8080/",
          "height": 332
        },
        "id": "6uoueUf0vw59",
        "outputId": "54841416-22d6-4faf-f257-b042c8c2e025"
      },
      "source": [
        "%%sql\n",
        "SELECT * FROM Interpol\n",
        "ORDER BY Country DESC Limit 5;"
      ],
      "execution_count": 28,
      "outputs": [
        {
          "output_type": "stream",
          "text": [
            " * sqlite://\n",
            "Done.\n"
          ],
          "name": "stdout"
        },
        {
          "output_type": "execute_result",
          "data": {
            "text/html": [
              "<table>\n",
              "    <thead>\n",
              "        <tr>\n",
              "            <th>Country</th>\n",
              "            <th>National Fugitives</th>\n",
              "            <th>Wanted Fugitives</th>\n",
              "            <th>Possible Hosted Fugitives / Captured Fugitives</th>\n",
              "            <th>Region</th>\n",
              "            <th>Flag</th>\n",
              "        </tr>\n",
              "    </thead>\n",
              "    <tbody>\n",
              "        <tr>\n",
              "            <td>Zimbabwe</td>\n",
              "            <td>0</td>\n",
              "            <td>0</td>\n",
              "            <td>2</td>\n",
              "            <td>Southern Africa</td>\n",
              "            <td>http://www.crwflags.com/fotw/images/z/zw.gif</td>\n",
              "        </tr>\n",
              "        <tr>\n",
              "            <td>Zambia</td>\n",
              "            <td>1</td>\n",
              "            <td>0</td>\n",
              "            <td>2</td>\n",
              "            <td>Southern Africa</td>\n",
              "            <td>http://www.crwflags.com/fotw/images/z/zm.gif</td>\n",
              "        </tr>\n",
              "        <tr>\n",
              "            <td>Venezuela</td>\n",
              "            <td>0</td>\n",
              "            <td>1</td>\n",
              "            <td>0</td>\n",
              "            <td>South America</td>\n",
              "            <td>http://www.crwflags.com/fotw/images/v/ve.gif</td>\n",
              "        </tr>\n",
              "        <tr>\n",
              "            <td>Uruguay</td>\n",
              "            <td>1</td>\n",
              "            <td>1</td>\n",
              "            <td>1</td>\n",
              "            <td>South America</td>\n",
              "            <td>http://www.crwflags.com/fotw/images/u/uy.gif</td>\n",
              "        </tr>\n",
              "        <tr>\n",
              "            <td>United States</td>\n",
              "            <td>8</td>\n",
              "            <td>11</td>\n",
              "            <td>6</td>\n",
              "            <td>North America</td>\n",
              "            <td>http://www.crwflags.com/fotw/images/u/us.gif</td>\n",
              "        </tr>\n",
              "    </tbody>\n",
              "</table>"
            ],
            "text/plain": [
              "[('Zimbabwe', 0, 0, 2, 'Southern Africa', 'http://www.crwflags.com/fotw/images/z/zw.gif'),\n",
              " ('Zambia', 1, 0, 2, 'Southern Africa', 'http://www.crwflags.com/fotw/images/z/zm.gif'),\n",
              " ('Venezuela', 0, 1, 0, 'South America', 'http://www.crwflags.com/fotw/images/v/ve.gif'),\n",
              " ('Uruguay', 1, 1, 1, 'South America', 'http://www.crwflags.com/fotw/images/u/uy.gif'),\n",
              " ('United States', 8, 11, 6, 'North America', 'http://www.crwflags.com/fotw/images/u/us.gif')]"
            ]
          },
          "metadata": {
            "tags": []
          },
          "execution_count": 28
        }
      ]
    },
    {
      "cell_type": "code",
      "metadata": {
        "colab": {
          "base_uri": "https://localhost:8080/",
          "height": 281
        },
        "id": "bAF-LafYwUMK",
        "outputId": "87d341ae-bd0e-4ab6-aabd-916c64a61030"
      },
      "source": [
        "%%sql\n",
        "SELECT * FROM Interpol\n",
        "ORDER BY Country ASC, Region ASC limit 5;"
      ],
      "execution_count": 29,
      "outputs": [
        {
          "output_type": "stream",
          "text": [
            " * sqlite://\n",
            "Done.\n"
          ],
          "name": "stdout"
        },
        {
          "output_type": "execute_result",
          "data": {
            "text/html": [
              "<table>\n",
              "    <thead>\n",
              "        <tr>\n",
              "            <th>Country</th>\n",
              "            <th>National Fugitives</th>\n",
              "            <th>Wanted Fugitives</th>\n",
              "            <th>Possible Hosted Fugitives / Captured Fugitives</th>\n",
              "            <th>Region</th>\n",
              "            <th>Flag</th>\n",
              "        </tr>\n",
              "    </thead>\n",
              "    <tbody>\n",
              "        <tr>\n",
              "            <td>Albania</td>\n",
              "            <td>3</td>\n",
              "            <td>3</td>\n",
              "            <td>0</td>\n",
              "            <td>Europe</td>\n",
              "            <td>http://www.crwflags.com/fotw/images/a/al.gif</td>\n",
              "        </tr>\n",
              "        <tr>\n",
              "            <td>Angola</td>\n",
              "            <td>0</td>\n",
              "            <td>0</td>\n",
              "            <td>1</td>\n",
              "            <td>Northern Africa</td>\n",
              "            <td>http://www.crwflags.com/fotw/images/a/ao.gif</td>\n",
              "        </tr>\n",
              "        <tr>\n",
              "            <td>Argentina</td>\n",
              "            <td>2</td>\n",
              "            <td>2</td>\n",
              "            <td>1</td>\n",
              "            <td>South America</td>\n",
              "            <td>http://www.crwflags.com/fotw/images/a/ar.gif</td>\n",
              "        </tr>\n",
              "        <tr>\n",
              "            <td>Australia</td>\n",
              "            <td>1</td>\n",
              "            <td>1</td>\n",
              "            <td>2</td>\n",
              "            <td>Oceania</td>\n",
              "            <td>http://www.crwflags.com/fotw/images/a/au.gif</td>\n",
              "        </tr>\n",
              "        <tr>\n",
              "            <td>Austria</td>\n",
              "            <td>1</td>\n",
              "            <td>1</td>\n",
              "            <td>0</td>\n",
              "            <td>Europe</td>\n",
              "            <td>http://www.crwflags.com/fotw/images/a/at.gif</td>\n",
              "        </tr>\n",
              "    </tbody>\n",
              "</table>"
            ],
            "text/plain": [
              "[('Albania', 3, 3, 0, 'Europe', 'http://www.crwflags.com/fotw/images/a/al.gif'),\n",
              " ('Angola', 0, 0, 1, 'Northern Africa', 'http://www.crwflags.com/fotw/images/a/ao.gif'),\n",
              " ('Argentina', 2, 2, 1, 'South America', 'http://www.crwflags.com/fotw/images/a/ar.gif'),\n",
              " ('Australia', 1, 1, 2, 'Oceania', 'http://www.crwflags.com/fotw/images/a/au.gif'),\n",
              " ('Austria', 1, 1, 0, 'Europe', 'http://www.crwflags.com/fotw/images/a/at.gif')]"
            ]
          },
          "metadata": {
            "tags": []
          },
          "execution_count": 29
        }
      ]
    },
    {
      "cell_type": "code",
      "metadata": {
        "colab": {
          "base_uri": "https://localhost:8080/"
        },
        "id": "Oxa8JFFNxS2_",
        "outputId": "a1083641-023e-41a0-f406-364577fc5795"
      },
      "source": [
        "%%sql\n",
        "INSERT INTO Interpol\n",
        "VALUES(\"Nairobi\",\"3\",\"3\",\"3\",\"SouthAmerica\",\"HAHA\")"
      ],
      "execution_count": 30,
      "outputs": [
        {
          "output_type": "stream",
          "text": [
            " * sqlite://\n",
            "1 rows affected.\n"
          ],
          "name": "stdout"
        },
        {
          "output_type": "execute_result",
          "data": {
            "text/plain": [
              "[]"
            ]
          },
          "metadata": {
            "tags": []
          },
          "execution_count": 30
        }
      ]
    },
    {
      "cell_type": "code",
      "metadata": {
        "colab": {
          "base_uri": "https://localhost:8080/",
          "height": 281
        },
        "id": "QP0cAcatycE7",
        "outputId": "6df0775f-971b-4757-c31c-e5ebe7b7b7e2"
      },
      "source": [
        "%%sql\n",
        "SELECT * FROM Interpol Limit 5;"
      ],
      "execution_count": 31,
      "outputs": [
        {
          "output_type": "stream",
          "text": [
            " * sqlite://\n",
            "Done.\n"
          ],
          "name": "stdout"
        },
        {
          "output_type": "execute_result",
          "data": {
            "text/html": [
              "<table>\n",
              "    <thead>\n",
              "        <tr>\n",
              "            <th>Country</th>\n",
              "            <th>National Fugitives</th>\n",
              "            <th>Wanted Fugitives</th>\n",
              "            <th>Possible Hosted Fugitives / Captured Fugitives</th>\n",
              "            <th>Region</th>\n",
              "            <th>Flag</th>\n",
              "        </tr>\n",
              "    </thead>\n",
              "    <tbody>\n",
              "        <tr>\n",
              "            <td>Albania</td>\n",
              "            <td>3</td>\n",
              "            <td>3</td>\n",
              "            <td>0</td>\n",
              "            <td>Europe</td>\n",
              "            <td>http://www.crwflags.com/fotw/images/a/al.gif</td>\n",
              "        </tr>\n",
              "        <tr>\n",
              "            <td>Angola</td>\n",
              "            <td>0</td>\n",
              "            <td>0</td>\n",
              "            <td>1</td>\n",
              "            <td>Northern Africa</td>\n",
              "            <td>http://www.crwflags.com/fotw/images/a/ao.gif</td>\n",
              "        </tr>\n",
              "        <tr>\n",
              "            <td>Argentina</td>\n",
              "            <td>2</td>\n",
              "            <td>2</td>\n",
              "            <td>1</td>\n",
              "            <td>South America</td>\n",
              "            <td>http://www.crwflags.com/fotw/images/a/ar.gif</td>\n",
              "        </tr>\n",
              "        <tr>\n",
              "            <td>Australia</td>\n",
              "            <td>1</td>\n",
              "            <td>1</td>\n",
              "            <td>2</td>\n",
              "            <td>Oceania</td>\n",
              "            <td>http://www.crwflags.com/fotw/images/a/au.gif</td>\n",
              "        </tr>\n",
              "        <tr>\n",
              "            <td>Austria</td>\n",
              "            <td>1</td>\n",
              "            <td>1</td>\n",
              "            <td>0</td>\n",
              "            <td>Europe</td>\n",
              "            <td>http://www.crwflags.com/fotw/images/a/at.gif</td>\n",
              "        </tr>\n",
              "    </tbody>\n",
              "</table>"
            ],
            "text/plain": [
              "[('Albania', 3, 3, 0, 'Europe', 'http://www.crwflags.com/fotw/images/a/al.gif'),\n",
              " ('Angola', 0, 0, 1, 'Northern Africa', 'http://www.crwflags.com/fotw/images/a/ao.gif'),\n",
              " ('Argentina', 2, 2, 1, 'South America', 'http://www.crwflags.com/fotw/images/a/ar.gif'),\n",
              " ('Australia', 1, 1, 2, 'Oceania', 'http://www.crwflags.com/fotw/images/a/au.gif'),\n",
              " ('Austria', 1, 1, 0, 'Europe', 'http://www.crwflags.com/fotw/images/a/at.gif')]"
            ]
          },
          "metadata": {
            "tags": []
          },
          "execution_count": 31
        }
      ]
    },
    {
      "cell_type": "code",
      "metadata": {
        "colab": {
          "base_uri": "https://localhost:8080/",
          "height": 281
        },
        "id": "SUDlPbE-y07L",
        "outputId": "a5d47af2-01a5-49b3-d946-703ef7d0dc7c"
      },
      "source": [
        "%%sql\n",
        "SELECT * FROM Interpol\n",
        "WHERE Country IS NOT NULL LIMIT 5;"
      ],
      "execution_count": 32,
      "outputs": [
        {
          "output_type": "stream",
          "text": [
            " * sqlite://\n",
            "Done.\n"
          ],
          "name": "stdout"
        },
        {
          "output_type": "execute_result",
          "data": {
            "text/html": [
              "<table>\n",
              "    <thead>\n",
              "        <tr>\n",
              "            <th>Country</th>\n",
              "            <th>National Fugitives</th>\n",
              "            <th>Wanted Fugitives</th>\n",
              "            <th>Possible Hosted Fugitives / Captured Fugitives</th>\n",
              "            <th>Region</th>\n",
              "            <th>Flag</th>\n",
              "        </tr>\n",
              "    </thead>\n",
              "    <tbody>\n",
              "        <tr>\n",
              "            <td>Albania</td>\n",
              "            <td>3</td>\n",
              "            <td>3</td>\n",
              "            <td>0</td>\n",
              "            <td>Europe</td>\n",
              "            <td>http://www.crwflags.com/fotw/images/a/al.gif</td>\n",
              "        </tr>\n",
              "        <tr>\n",
              "            <td>Angola</td>\n",
              "            <td>0</td>\n",
              "            <td>0</td>\n",
              "            <td>1</td>\n",
              "            <td>Northern Africa</td>\n",
              "            <td>http://www.crwflags.com/fotw/images/a/ao.gif</td>\n",
              "        </tr>\n",
              "        <tr>\n",
              "            <td>Argentina</td>\n",
              "            <td>2</td>\n",
              "            <td>2</td>\n",
              "            <td>1</td>\n",
              "            <td>South America</td>\n",
              "            <td>http://www.crwflags.com/fotw/images/a/ar.gif</td>\n",
              "        </tr>\n",
              "        <tr>\n",
              "            <td>Australia</td>\n",
              "            <td>1</td>\n",
              "            <td>1</td>\n",
              "            <td>2</td>\n",
              "            <td>Oceania</td>\n",
              "            <td>http://www.crwflags.com/fotw/images/a/au.gif</td>\n",
              "        </tr>\n",
              "        <tr>\n",
              "            <td>Austria</td>\n",
              "            <td>1</td>\n",
              "            <td>1</td>\n",
              "            <td>0</td>\n",
              "            <td>Europe</td>\n",
              "            <td>http://www.crwflags.com/fotw/images/a/at.gif</td>\n",
              "        </tr>\n",
              "    </tbody>\n",
              "</table>"
            ],
            "text/plain": [
              "[('Albania', 3, 3, 0, 'Europe', 'http://www.crwflags.com/fotw/images/a/al.gif'),\n",
              " ('Angola', 0, 0, 1, 'Northern Africa', 'http://www.crwflags.com/fotw/images/a/ao.gif'),\n",
              " ('Argentina', 2, 2, 1, 'South America', 'http://www.crwflags.com/fotw/images/a/ar.gif'),\n",
              " ('Australia', 1, 1, 2, 'Oceania', 'http://www.crwflags.com/fotw/images/a/au.gif'),\n",
              " ('Austria', 1, 1, 0, 'Europe', 'http://www.crwflags.com/fotw/images/a/at.gif')]"
            ]
          },
          "metadata": {
            "tags": []
          },
          "execution_count": 32
        }
      ]
    },
    {
      "cell_type": "code",
      "metadata": {
        "id": "US3iOZnI0LJD"
      },
      "source": [
        "\n"
      ],
      "execution_count": 32,
      "outputs": []
    },
    {
      "cell_type": "code",
      "metadata": {
        "colab": {
          "base_uri": "https://localhost:8080/"
        },
        "id": "CR4wlrOM0y87",
        "outputId": "91250859-59aa-4163-fba5-90d9bec7f900"
      },
      "source": [
        "%%sql \n",
        "Update Interpol\n",
        "SET Flag='David.Okoyo@outlook.com'\n",
        "WHERE Country='Albania';"
      ],
      "execution_count": 33,
      "outputs": [
        {
          "output_type": "stream",
          "text": [
            " * sqlite://\n",
            "1 rows affected.\n"
          ],
          "name": "stdout"
        },
        {
          "output_type": "execute_result",
          "data": {
            "text/plain": [
              "[]"
            ]
          },
          "metadata": {
            "tags": []
          },
          "execution_count": 33
        }
      ]
    },
    {
      "cell_type": "code",
      "metadata": {
        "colab": {
          "base_uri": "https://localhost:8080/",
          "height": 239
        },
        "id": "PatpAcdj4JIk",
        "outputId": "ce977503-6013-4171-abfd-c44c237c03a8"
      },
      "source": [
        "%%sql\n",
        "SELECT * FROM Interpol Limit 3;"
      ],
      "execution_count": 34,
      "outputs": [
        {
          "output_type": "stream",
          "text": [
            " * sqlite://\n",
            "Done.\n"
          ],
          "name": "stdout"
        },
        {
          "output_type": "execute_result",
          "data": {
            "text/html": [
              "<table>\n",
              "    <thead>\n",
              "        <tr>\n",
              "            <th>Country</th>\n",
              "            <th>National Fugitives</th>\n",
              "            <th>Wanted Fugitives</th>\n",
              "            <th>Possible Hosted Fugitives / Captured Fugitives</th>\n",
              "            <th>Region</th>\n",
              "            <th>Flag</th>\n",
              "        </tr>\n",
              "    </thead>\n",
              "    <tbody>\n",
              "        <tr>\n",
              "            <td>Albania</td>\n",
              "            <td>3</td>\n",
              "            <td>3</td>\n",
              "            <td>0</td>\n",
              "            <td>Europe</td>\n",
              "            <td>David.Okoyo@outlook.com</td>\n",
              "        </tr>\n",
              "        <tr>\n",
              "            <td>Angola</td>\n",
              "            <td>0</td>\n",
              "            <td>0</td>\n",
              "            <td>1</td>\n",
              "            <td>Northern Africa</td>\n",
              "            <td>http://www.crwflags.com/fotw/images/a/ao.gif</td>\n",
              "        </tr>\n",
              "        <tr>\n",
              "            <td>Argentina</td>\n",
              "            <td>2</td>\n",
              "            <td>2</td>\n",
              "            <td>1</td>\n",
              "            <td>South America</td>\n",
              "            <td>http://www.crwflags.com/fotw/images/a/ar.gif</td>\n",
              "        </tr>\n",
              "    </tbody>\n",
              "</table>"
            ],
            "text/plain": [
              "[('Albania', 3, 3, 0, 'Europe', 'David.Okoyo@outlook.com'),\n",
              " ('Angola', 0, 0, 1, 'Northern Africa', 'http://www.crwflags.com/fotw/images/a/ao.gif'),\n",
              " ('Argentina', 2, 2, 1, 'South America', 'http://www.crwflags.com/fotw/images/a/ar.gif')]"
            ]
          },
          "metadata": {
            "tags": []
          },
          "execution_count": 34
        }
      ]
    },
    {
      "cell_type": "code",
      "metadata": {
        "colab": {
          "base_uri": "https://localhost:8080/"
        },
        "id": "a3E_kdOb4U-7",
        "outputId": "f1b68dec-5cb8-4047-a68e-22ac68de8b92"
      },
      "source": [
        "%%sql\n",
        "DELETE FROM Interpol WHERE Country='Angola';"
      ],
      "execution_count": 35,
      "outputs": [
        {
          "output_type": "stream",
          "text": [
            " * sqlite://\n",
            "1 rows affected.\n"
          ],
          "name": "stdout"
        },
        {
          "output_type": "execute_result",
          "data": {
            "text/plain": [
              "[]"
            ]
          },
          "metadata": {
            "tags": []
          },
          "execution_count": 35
        }
      ]
    },
    {
      "cell_type": "code",
      "metadata": {
        "colab": {
          "base_uri": "https://localhost:8080/",
          "height": 264
        },
        "id": "ncABl9Ar6jGO",
        "outputId": "9ac05747-7fd8-49e2-ff99-66bf54fa4c35"
      },
      "source": [
        "%%sql\n",
        "SELECT * FROM Interpol Limit 5;"
      ],
      "execution_count": 36,
      "outputs": [
        {
          "output_type": "stream",
          "text": [
            " * sqlite://\n",
            "Done.\n"
          ],
          "name": "stdout"
        },
        {
          "output_type": "execute_result",
          "data": {
            "text/html": [
              "<table>\n",
              "    <thead>\n",
              "        <tr>\n",
              "            <th>Country</th>\n",
              "            <th>National Fugitives</th>\n",
              "            <th>Wanted Fugitives</th>\n",
              "            <th>Possible Hosted Fugitives / Captured Fugitives</th>\n",
              "            <th>Region</th>\n",
              "            <th>Flag</th>\n",
              "        </tr>\n",
              "    </thead>\n",
              "    <tbody>\n",
              "        <tr>\n",
              "            <td>Albania</td>\n",
              "            <td>3</td>\n",
              "            <td>3</td>\n",
              "            <td>0</td>\n",
              "            <td>Europe</td>\n",
              "            <td>David.Okoyo@outlook.com</td>\n",
              "        </tr>\n",
              "        <tr>\n",
              "            <td>Argentina</td>\n",
              "            <td>2</td>\n",
              "            <td>2</td>\n",
              "            <td>1</td>\n",
              "            <td>South America</td>\n",
              "            <td>http://www.crwflags.com/fotw/images/a/ar.gif</td>\n",
              "        </tr>\n",
              "        <tr>\n",
              "            <td>Australia</td>\n",
              "            <td>1</td>\n",
              "            <td>1</td>\n",
              "            <td>2</td>\n",
              "            <td>Oceania</td>\n",
              "            <td>http://www.crwflags.com/fotw/images/a/au.gif</td>\n",
              "        </tr>\n",
              "        <tr>\n",
              "            <td>Austria</td>\n",
              "            <td>1</td>\n",
              "            <td>1</td>\n",
              "            <td>0</td>\n",
              "            <td>Europe</td>\n",
              "            <td>http://www.crwflags.com/fotw/images/a/at.gif</td>\n",
              "        </tr>\n",
              "        <tr>\n",
              "            <td>Bangladesh</td>\n",
              "            <td>2</td>\n",
              "            <td>1</td>\n",
              "            <td>1</td>\n",
              "            <td>Asia</td>\n",
              "            <td>http://www.crwflags.com/fotw/images/b/bd.gif</td>\n",
              "        </tr>\n",
              "    </tbody>\n",
              "</table>"
            ],
            "text/plain": [
              "[('Albania', 3, 3, 0, 'Europe', 'David.Okoyo@outlook.com'),\n",
              " ('Argentina', 2, 2, 1, 'South America', 'http://www.crwflags.com/fotw/images/a/ar.gif'),\n",
              " ('Australia', 1, 1, 2, 'Oceania', 'http://www.crwflags.com/fotw/images/a/au.gif'),\n",
              " ('Austria', 1, 1, 0, 'Europe', 'http://www.crwflags.com/fotw/images/a/at.gif'),\n",
              " ('Bangladesh', 2, 1, 1, 'Asia', 'http://www.crwflags.com/fotw/images/b/bd.gif')]"
            ]
          },
          "metadata": {
            "tags": []
          },
          "execution_count": 36
        }
      ]
    },
    {
      "cell_type": "code",
      "metadata": {
        "id": "CZfAMOHn6tlt"
      },
      "source": [
        "with open('/content/sample_data/california_housing_test.csv','r') as f:\n",
        "  Calif=pd.read_csv(f, index_col=0, encoding='utf')"
      ],
      "execution_count": 37,
      "outputs": []
    },
    {
      "cell_type": "code",
      "metadata": {
        "colab": {
          "base_uri": "https://localhost:8080/",
          "height": 103
        },
        "id": "hQVkudE_Ucgb",
        "outputId": "58e06bee-34ba-43b3-f935-46f1321cd7dc"
      },
      "source": [
        "%sql\n",
        "%sql DROP TABLE if EXISTS Calif;\n",
        "%sql PERSIST Calif"
      ],
      "execution_count": 38,
      "outputs": [
        {
          "output_type": "stream",
          "text": [
            " * sqlite://\n",
            " * sqlite://\n",
            "Done.\n",
            " * sqlite://\n"
          ],
          "name": "stdout"
        },
        {
          "output_type": "execute_result",
          "data": {
            "application/vnd.google.colaboratory.intrinsic+json": {
              "type": "string"
            },
            "text/plain": [
              "'Persisted calif'"
            ]
          },
          "metadata": {
            "tags": []
          },
          "execution_count": 38
        }
      ]
    },
    {
      "cell_type": "code",
      "metadata": {
        "colab": {
          "base_uri": "https://localhost:8080/",
          "height": 199
        },
        "id": "yEL_nZx8Uneq",
        "outputId": "85bde4f9-edce-40e0-fed8-6218442069d1"
      },
      "source": [
        "%%sql\n",
        "SELECT * FROM Calif Limit 5;"
      ],
      "execution_count": 39,
      "outputs": [
        {
          "output_type": "stream",
          "text": [
            " * sqlite://\n",
            "Done.\n"
          ],
          "name": "stdout"
        },
        {
          "output_type": "execute_result",
          "data": {
            "text/html": [
              "<table>\n",
              "    <thead>\n",
              "        <tr>\n",
              "            <th>longitude</th>\n",
              "            <th>latitude</th>\n",
              "            <th>housing_median_age</th>\n",
              "            <th>total_rooms</th>\n",
              "            <th>total_bedrooms</th>\n",
              "            <th>population</th>\n",
              "            <th>households</th>\n",
              "            <th>median_income</th>\n",
              "            <th>median_house_value</th>\n",
              "        </tr>\n",
              "    </thead>\n",
              "    <tbody>\n",
              "        <tr>\n",
              "            <td>-122.05</td>\n",
              "            <td>37.37</td>\n",
              "            <td>27.0</td>\n",
              "            <td>3885.0</td>\n",
              "            <td>661.0</td>\n",
              "            <td>1537.0</td>\n",
              "            <td>606.0</td>\n",
              "            <td>6.6085</td>\n",
              "            <td>344700.0</td>\n",
              "        </tr>\n",
              "        <tr>\n",
              "            <td>-118.3</td>\n",
              "            <td>34.26</td>\n",
              "            <td>43.0</td>\n",
              "            <td>1510.0</td>\n",
              "            <td>310.0</td>\n",
              "            <td>809.0</td>\n",
              "            <td>277.0</td>\n",
              "            <td>3.599</td>\n",
              "            <td>176500.0</td>\n",
              "        </tr>\n",
              "        <tr>\n",
              "            <td>-117.81</td>\n",
              "            <td>33.78</td>\n",
              "            <td>27.0</td>\n",
              "            <td>3589.0</td>\n",
              "            <td>507.0</td>\n",
              "            <td>1484.0</td>\n",
              "            <td>495.0</td>\n",
              "            <td>5.7934</td>\n",
              "            <td>270500.0</td>\n",
              "        </tr>\n",
              "        <tr>\n",
              "            <td>-118.36</td>\n",
              "            <td>33.82</td>\n",
              "            <td>28.0</td>\n",
              "            <td>67.0</td>\n",
              "            <td>15.0</td>\n",
              "            <td>49.0</td>\n",
              "            <td>11.0</td>\n",
              "            <td>6.1359</td>\n",
              "            <td>330000.0</td>\n",
              "        </tr>\n",
              "        <tr>\n",
              "            <td>-119.67</td>\n",
              "            <td>36.33</td>\n",
              "            <td>19.0</td>\n",
              "            <td>1241.0</td>\n",
              "            <td>244.0</td>\n",
              "            <td>850.0</td>\n",
              "            <td>237.0</td>\n",
              "            <td>2.9375</td>\n",
              "            <td>81700.0</td>\n",
              "        </tr>\n",
              "    </tbody>\n",
              "</table>"
            ],
            "text/plain": [
              "[(-122.05, 37.37, 27.0, 3885.0, 661.0, 1537.0, 606.0, 6.6085, 344700.0),\n",
              " (-118.3, 34.26, 43.0, 1510.0, 310.0, 809.0, 277.0, 3.599, 176500.0),\n",
              " (-117.81, 33.78, 27.0, 3589.0, 507.0, 1484.0, 495.0, 5.7934, 270500.0),\n",
              " (-118.36, 33.82, 28.0, 67.0, 15.0, 49.0, 11.0, 6.1359, 330000.0),\n",
              " (-119.67, 36.33, 19.0, 1241.0, 244.0, 850.0, 237.0, 2.9375, 81700.0)]"
            ]
          },
          "metadata": {
            "tags": []
          },
          "execution_count": 39
        }
      ]
    },
    {
      "cell_type": "code",
      "metadata": {
        "colab": {
          "base_uri": "https://localhost:8080/",
          "height": 305
        },
        "id": "JRIjp0U0Upsy",
        "outputId": "112d9ea3-0840-43bd-d4e5-29b39f64d2d9"
      },
      "source": [
        "%%sql\n",
        "SELECT longitude\n",
        "FROM CALIF\n",
        "WHERE \"latitude\"=33.78\n"
      ],
      "execution_count": 40,
      "outputs": [
        {
          "output_type": "stream",
          "text": [
            " * sqlite://\n",
            "Done.\n"
          ],
          "name": "stdout"
        },
        {
          "output_type": "execute_result",
          "data": {
            "text/html": [
              "<table>\n",
              "    <thead>\n",
              "        <tr>\n",
              "            <th>longitude</th>\n",
              "        </tr>\n",
              "    </thead>\n",
              "    <tbody>\n",
              "        <tr>\n",
              "            <td>-117.81</td>\n",
              "        </tr>\n",
              "        <tr>\n",
              "            <td>-117.99</td>\n",
              "        </tr>\n",
              "        <tr>\n",
              "            <td>-116.36</td>\n",
              "        </tr>\n",
              "        <tr>\n",
              "            <td>-118.19</td>\n",
              "        </tr>\n",
              "        <tr>\n",
              "            <td>-118.03</td>\n",
              "        </tr>\n",
              "        <tr>\n",
              "            <td>-118.2</td>\n",
              "        </tr>\n",
              "        <tr>\n",
              "            <td>-117.93</td>\n",
              "        </tr>\n",
              "        <tr>\n",
              "            <td>-118.08</td>\n",
              "        </tr>\n",
              "        <tr>\n",
              "            <td>-118.05</td>\n",
              "        </tr>\n",
              "        <tr>\n",
              "            <td>-118.26</td>\n",
              "        </tr>\n",
              "        <tr>\n",
              "            <td>-116.43</td>\n",
              "        </tr>\n",
              "    </tbody>\n",
              "</table>"
            ],
            "text/plain": [
              "[(-117.81,),\n",
              " (-117.99,),\n",
              " (-116.36,),\n",
              " (-118.19,),\n",
              " (-118.03,),\n",
              " (-118.2,),\n",
              " (-117.93,),\n",
              " (-118.08,),\n",
              " (-118.05,),\n",
              " (-118.26,),\n",
              " (-116.43,)]"
            ]
          },
          "metadata": {
            "tags": []
          },
          "execution_count": 40
        }
      ]
    },
    {
      "cell_type": "code",
      "metadata": {
        "id": "50XmzMoGVGua"
      },
      "source": [
        "with open('/content/sample_data/california_housing_train.csv','r') as f:\n",
        "  SGR=pd.read_csv(f, index_col=0, encoding='utf')"
      ],
      "execution_count": 41,
      "outputs": []
    },
    {
      "cell_type": "code",
      "metadata": {
        "id": "EYk-BUiJ7w_V"
      },
      "source": [
        ""
      ],
      "execution_count": 41,
      "outputs": []
    },
    {
      "cell_type": "code",
      "metadata": {
        "colab": {
          "base_uri": "https://localhost:8080/",
          "height": 103
        },
        "id": "lRZcPsvS8AUw",
        "outputId": "02d592bb-91a5-473b-b92c-6c3b426a4576"
      },
      "source": [
        "%sql\n",
        "%sql DROP TABLE if EXISTS SGR;\n",
        "%sql PERSIST SGR"
      ],
      "execution_count": 42,
      "outputs": [
        {
          "output_type": "stream",
          "text": [
            " * sqlite://\n",
            " * sqlite://\n",
            "Done.\n",
            " * sqlite://\n"
          ],
          "name": "stdout"
        },
        {
          "output_type": "execute_result",
          "data": {
            "application/vnd.google.colaboratory.intrinsic+json": {
              "type": "string"
            },
            "text/plain": [
              "'Persisted sgr'"
            ]
          },
          "metadata": {
            "tags": []
          },
          "execution_count": 42
        }
      ]
    },
    {
      "cell_type": "code",
      "metadata": {
        "colab": {
          "base_uri": "https://localhost:8080/",
          "height": 199
        },
        "id": "zDtPaH3G8Xx6",
        "outputId": "a75b4582-13f0-4608-c6c3-5b0562cfabe3"
      },
      "source": [
        "%%sql\n",
        "SELECT * FROM SGR LIMIT 5;"
      ],
      "execution_count": 43,
      "outputs": [
        {
          "output_type": "stream",
          "text": [
            " * sqlite://\n",
            "Done.\n"
          ],
          "name": "stdout"
        },
        {
          "output_type": "execute_result",
          "data": {
            "text/html": [
              "<table>\n",
              "    <thead>\n",
              "        <tr>\n",
              "            <th>longitude</th>\n",
              "            <th>latitude</th>\n",
              "            <th>housing_median_age</th>\n",
              "            <th>total_rooms</th>\n",
              "            <th>total_bedrooms</th>\n",
              "            <th>population</th>\n",
              "            <th>households</th>\n",
              "            <th>median_income</th>\n",
              "            <th>median_house_value</th>\n",
              "        </tr>\n",
              "    </thead>\n",
              "    <tbody>\n",
              "        <tr>\n",
              "            <td>-114.31</td>\n",
              "            <td>34.19</td>\n",
              "            <td>15.0</td>\n",
              "            <td>5612.0</td>\n",
              "            <td>1283.0</td>\n",
              "            <td>1015.0</td>\n",
              "            <td>472.0</td>\n",
              "            <td>1.4936</td>\n",
              "            <td>66900.0</td>\n",
              "        </tr>\n",
              "        <tr>\n",
              "            <td>-114.47</td>\n",
              "            <td>34.4</td>\n",
              "            <td>19.0</td>\n",
              "            <td>7650.0</td>\n",
              "            <td>1901.0</td>\n",
              "            <td>1129.0</td>\n",
              "            <td>463.0</td>\n",
              "            <td>1.82</td>\n",
              "            <td>80100.0</td>\n",
              "        </tr>\n",
              "        <tr>\n",
              "            <td>-114.56</td>\n",
              "            <td>33.69</td>\n",
              "            <td>17.0</td>\n",
              "            <td>720.0</td>\n",
              "            <td>174.0</td>\n",
              "            <td>333.0</td>\n",
              "            <td>117.0</td>\n",
              "            <td>1.6509</td>\n",
              "            <td>85700.0</td>\n",
              "        </tr>\n",
              "        <tr>\n",
              "            <td>-114.57</td>\n",
              "            <td>33.64</td>\n",
              "            <td>14.0</td>\n",
              "            <td>1501.0</td>\n",
              "            <td>337.0</td>\n",
              "            <td>515.0</td>\n",
              "            <td>226.0</td>\n",
              "            <td>3.1917</td>\n",
              "            <td>73400.0</td>\n",
              "        </tr>\n",
              "        <tr>\n",
              "            <td>-114.57</td>\n",
              "            <td>33.57</td>\n",
              "            <td>20.0</td>\n",
              "            <td>1454.0</td>\n",
              "            <td>326.0</td>\n",
              "            <td>624.0</td>\n",
              "            <td>262.0</td>\n",
              "            <td>1.925</td>\n",
              "            <td>65500.0</td>\n",
              "        </tr>\n",
              "    </tbody>\n",
              "</table>"
            ],
            "text/plain": [
              "[(-114.31, 34.19, 15.0, 5612.0, 1283.0, 1015.0, 472.0, 1.4936, 66900.0),\n",
              " (-114.47, 34.4, 19.0, 7650.0, 1901.0, 1129.0, 463.0, 1.82, 80100.0),\n",
              " (-114.56, 33.69, 17.0, 720.0, 174.0, 333.0, 117.0, 1.6509, 85700.0),\n",
              " (-114.57, 33.64, 14.0, 1501.0, 337.0, 515.0, 226.0, 3.1917, 73400.0),\n",
              " (-114.57, 33.57, 20.0, 1454.0, 326.0, 624.0, 262.0, 1.925, 65500.0)]"
            ]
          },
          "metadata": {
            "tags": []
          },
          "execution_count": 43
        }
      ]
    },
    {
      "cell_type": "code",
      "metadata": {
        "colab": {
          "base_uri": "https://localhost:8080/"
        },
        "id": "kusMaHCpDMfZ",
        "outputId": "60d20f8d-5fda-49a3-b67b-7de6f3b78162"
      },
      "source": [
        "%%sql\n",
        "DELETE FROM SGR WHERE population ='1';"
      ],
      "execution_count": 44,
      "outputs": [
        {
          "output_type": "stream",
          "text": [
            " * sqlite://\n",
            "0 rows affected.\n"
          ],
          "name": "stdout"
        },
        {
          "output_type": "execute_result",
          "data": {
            "text/plain": [
              "[]"
            ]
          },
          "metadata": {
            "tags": []
          },
          "execution_count": 44
        }
      ]
    },
    {
      "cell_type": "code",
      "metadata": {
        "colab": {
          "base_uri": "https://localhost:8080/"
        },
        "id": "GyWHTRawCZmk",
        "outputId": "a7a742d0-4e6c-45f2-98ca-accb41f1d5e4"
      },
      "source": [
        "%%sql\n",
        "DELETE FROM SGR WHERE housing_median_age='15';"
      ],
      "execution_count": 45,
      "outputs": [
        {
          "output_type": "stream",
          "text": [
            " * sqlite://\n",
            "416 rows affected.\n"
          ],
          "name": "stdout"
        },
        {
          "output_type": "execute_result",
          "data": {
            "text/plain": [
              "[]"
            ]
          },
          "metadata": {
            "tags": []
          },
          "execution_count": 45
        }
      ]
    },
    {
      "cell_type": "code",
      "metadata": {
        "colab": {
          "base_uri": "https://localhost:8080/"
        },
        "id": "8Tx5DJIZ8o9X",
        "outputId": "9fe906b0-71c7-4466-eddf-c616f5c6760a"
      },
      "source": [
        "%%sql\n",
        "UPDATE SGR \n",
        "SET total_bedrooms ='10,000'\n",
        "WHERE  longitude = '-114.47';\n"
      ],
      "execution_count": 46,
      "outputs": [
        {
          "output_type": "stream",
          "text": [
            " * sqlite://\n",
            "1 rows affected.\n"
          ],
          "name": "stdout"
        },
        {
          "output_type": "execute_result",
          "data": {
            "text/plain": [
              "[]"
            ]
          },
          "metadata": {
            "tags": []
          },
          "execution_count": 46
        }
      ]
    },
    {
      "cell_type": "code",
      "metadata": {
        "colab": {
          "base_uri": "https://localhost:8080/"
        },
        "id": "qDVjCZmp-U5m",
        "outputId": "bab03d90-e4e1-473a-a751-acaa9443f44b"
      },
      "source": [
        "%%sql\n",
        "UPDATE SGR\n",
        "SET housing_median_age='24.0'\n",
        "WHERE latitude='34.4';"
      ],
      "execution_count": 47,
      "outputs": [
        {
          "output_type": "stream",
          "text": [
            " * sqlite://\n",
            "20 rows affected.\n"
          ],
          "name": "stdout"
        },
        {
          "output_type": "execute_result",
          "data": {
            "text/plain": [
              "[]"
            ]
          },
          "metadata": {
            "tags": []
          },
          "execution_count": 47
        }
      ]
    },
    {
      "cell_type": "code",
      "metadata": {
        "colab": {
          "base_uri": "https://localhost:8080/",
          "height": 199
        },
        "id": "hm2PcmIfATTk",
        "outputId": "bfaee602-5527-46c2-a8c0-528a2f7079c7"
      },
      "source": [
        "%%sql \n",
        "SELECT * FROM SGR LIMIT 5;"
      ],
      "execution_count": 48,
      "outputs": [
        {
          "output_type": "stream",
          "text": [
            " * sqlite://\n",
            "Done.\n"
          ],
          "name": "stdout"
        },
        {
          "output_type": "execute_result",
          "data": {
            "text/html": [
              "<table>\n",
              "    <thead>\n",
              "        <tr>\n",
              "            <th>longitude</th>\n",
              "            <th>latitude</th>\n",
              "            <th>housing_median_age</th>\n",
              "            <th>total_rooms</th>\n",
              "            <th>total_bedrooms</th>\n",
              "            <th>population</th>\n",
              "            <th>households</th>\n",
              "            <th>median_income</th>\n",
              "            <th>median_house_value</th>\n",
              "        </tr>\n",
              "    </thead>\n",
              "    <tbody>\n",
              "        <tr>\n",
              "            <td>-114.47</td>\n",
              "            <td>34.4</td>\n",
              "            <td>24.0</td>\n",
              "            <td>7650.0</td>\n",
              "            <td>10,000</td>\n",
              "            <td>1129.0</td>\n",
              "            <td>463.0</td>\n",
              "            <td>1.82</td>\n",
              "            <td>80100.0</td>\n",
              "        </tr>\n",
              "        <tr>\n",
              "            <td>-114.56</td>\n",
              "            <td>33.69</td>\n",
              "            <td>17.0</td>\n",
              "            <td>720.0</td>\n",
              "            <td>174.0</td>\n",
              "            <td>333.0</td>\n",
              "            <td>117.0</td>\n",
              "            <td>1.6509</td>\n",
              "            <td>85700.0</td>\n",
              "        </tr>\n",
              "        <tr>\n",
              "            <td>-114.57</td>\n",
              "            <td>33.64</td>\n",
              "            <td>14.0</td>\n",
              "            <td>1501.0</td>\n",
              "            <td>337.0</td>\n",
              "            <td>515.0</td>\n",
              "            <td>226.0</td>\n",
              "            <td>3.1917</td>\n",
              "            <td>73400.0</td>\n",
              "        </tr>\n",
              "        <tr>\n",
              "            <td>-114.57</td>\n",
              "            <td>33.57</td>\n",
              "            <td>20.0</td>\n",
              "            <td>1454.0</td>\n",
              "            <td>326.0</td>\n",
              "            <td>624.0</td>\n",
              "            <td>262.0</td>\n",
              "            <td>1.925</td>\n",
              "            <td>65500.0</td>\n",
              "        </tr>\n",
              "        <tr>\n",
              "            <td>-114.58</td>\n",
              "            <td>33.63</td>\n",
              "            <td>29.0</td>\n",
              "            <td>1387.0</td>\n",
              "            <td>236.0</td>\n",
              "            <td>671.0</td>\n",
              "            <td>239.0</td>\n",
              "            <td>3.3438</td>\n",
              "            <td>74000.0</td>\n",
              "        </tr>\n",
              "    </tbody>\n",
              "</table>"
            ],
            "text/plain": [
              "[(-114.47, 34.4, 24.0, 7650.0, '10,000', 1129.0, 463.0, 1.82, 80100.0),\n",
              " (-114.56, 33.69, 17.0, 720.0, 174.0, 333.0, 117.0, 1.6509, 85700.0),\n",
              " (-114.57, 33.64, 14.0, 1501.0, 337.0, 515.0, 226.0, 3.1917, 73400.0),\n",
              " (-114.57, 33.57, 20.0, 1454.0, 326.0, 624.0, 262.0, 1.925, 65500.0),\n",
              " (-114.58, 33.63, 29.0, 1387.0, 236.0, 671.0, 239.0, 3.3438, 74000.0)]"
            ]
          },
          "metadata": {
            "tags": []
          },
          "execution_count": 48
        }
      ]
    },
    {
      "cell_type": "code",
      "metadata": {
        "colab": {
          "base_uri": "https://localhost:8080/",
          "height": 95
        },
        "id": "0BwoqnR8FjFz",
        "outputId": "a1436494-4da5-46e3-f516-b4775398f67f"
      },
      "source": [
        "%%sql\n",
        "SELECT MAX (total_bedrooms) FROM SGR;"
      ],
      "execution_count": 49,
      "outputs": [
        {
          "output_type": "stream",
          "text": [
            " * sqlite://\n",
            "Done.\n"
          ],
          "name": "stdout"
        },
        {
          "output_type": "execute_result",
          "data": {
            "text/html": [
              "<table>\n",
              "    <thead>\n",
              "        <tr>\n",
              "            <th>MAX (total_bedrooms)</th>\n",
              "        </tr>\n",
              "    </thead>\n",
              "    <tbody>\n",
              "        <tr>\n",
              "            <td>10,000</td>\n",
              "        </tr>\n",
              "    </tbody>\n",
              "</table>"
            ],
            "text/plain": [
              "[('10,000',)]"
            ]
          },
          "metadata": {
            "tags": []
          },
          "execution_count": 49
        }
      ]
    },
    {
      "cell_type": "code",
      "metadata": {
        "colab": {
          "base_uri": "https://localhost:8080/",
          "height": 95
        },
        "id": "0bcMQWgcc035",
        "outputId": "e1b76da6-4437-42c6-dd34-2f1f7bfd1dfe"
      },
      "source": [
        "%%sql\n",
        "SELECT MAX (POPULATION) FROM SGR;"
      ],
      "execution_count": 50,
      "outputs": [
        {
          "output_type": "stream",
          "text": [
            " * sqlite://\n",
            "Done.\n"
          ],
          "name": "stdout"
        },
        {
          "output_type": "execute_result",
          "data": {
            "text/html": [
              "<table>\n",
              "    <thead>\n",
              "        <tr>\n",
              "            <th>MAX (POPULATION)</th>\n",
              "        </tr>\n",
              "    </thead>\n",
              "    <tbody>\n",
              "        <tr>\n",
              "            <td>35682.0</td>\n",
              "        </tr>\n",
              "    </tbody>\n",
              "</table>"
            ],
            "text/plain": [
              "[(35682.0,)]"
            ]
          },
          "metadata": {
            "tags": []
          },
          "execution_count": 50
        }
      ]
    },
    {
      "cell_type": "code",
      "metadata": {
        "colab": {
          "base_uri": "https://localhost:8080/",
          "height": 95
        },
        "id": "VKTwA_ICeQJN",
        "outputId": "2f2418f7-61e8-431f-e00d-8b0ac6a390a3"
      },
      "source": [
        "%%sql\n",
        "SELECT MAX (longitude) FROM SGR;"
      ],
      "execution_count": 51,
      "outputs": [
        {
          "output_type": "stream",
          "text": [
            " * sqlite://\n",
            "Done.\n"
          ],
          "name": "stdout"
        },
        {
          "output_type": "execute_result",
          "data": {
            "text/html": [
              "<table>\n",
              "    <thead>\n",
              "        <tr>\n",
              "            <th>MAX (longitude)</th>\n",
              "        </tr>\n",
              "    </thead>\n",
              "    <tbody>\n",
              "        <tr>\n",
              "            <td>-114.47</td>\n",
              "        </tr>\n",
              "    </tbody>\n",
              "</table>"
            ],
            "text/plain": [
              "[(-114.47,)]"
            ]
          },
          "metadata": {
            "tags": []
          },
          "execution_count": 51
        }
      ]
    },
    {
      "cell_type": "code",
      "metadata": {
        "colab": {
          "base_uri": "https://localhost:8080/",
          "height": 95
        },
        "id": "ua92accOelnB",
        "outputId": "c0be5fbd-17e9-4150-bb60-5b54fdde4b8a"
      },
      "source": [
        "%%sql\n",
        "SELECT MIN (longitude) FROM SGR;\n"
      ],
      "execution_count": 52,
      "outputs": [
        {
          "output_type": "stream",
          "text": [
            " * sqlite://\n",
            "Done.\n"
          ],
          "name": "stdout"
        },
        {
          "output_type": "execute_result",
          "data": {
            "text/html": [
              "<table>\n",
              "    <thead>\n",
              "        <tr>\n",
              "            <th>MIN (longitude)</th>\n",
              "        </tr>\n",
              "    </thead>\n",
              "    <tbody>\n",
              "        <tr>\n",
              "            <td>-124.35</td>\n",
              "        </tr>\n",
              "    </tbody>\n",
              "</table>"
            ],
            "text/plain": [
              "[(-124.35,)]"
            ]
          },
          "metadata": {
            "tags": []
          },
          "execution_count": 52
        }
      ]
    },
    {
      "cell_type": "code",
      "metadata": {
        "id": "rWZOBgqTev-V",
        "colab": {
          "base_uri": "https://localhost:8080/",
          "height": 95
        },
        "outputId": "069f7da2-33cb-4777-d1ae-b190c7c47ff5"
      },
      "source": [
        "%%sql\n",
        "SELECT MIN(population) AS Cheapest\n",
        "FROM SGR;"
      ],
      "execution_count": 53,
      "outputs": [
        {
          "output_type": "stream",
          "text": [
            " * sqlite://\n",
            "Done.\n"
          ],
          "name": "stdout"
        },
        {
          "output_type": "execute_result",
          "data": {
            "text/html": [
              "<table>\n",
              "    <thead>\n",
              "        <tr>\n",
              "            <th>Cheapest</th>\n",
              "        </tr>\n",
              "    </thead>\n",
              "    <tbody>\n",
              "        <tr>\n",
              "            <td>3.0</td>\n",
              "        </tr>\n",
              "    </tbody>\n",
              "</table>"
            ],
            "text/plain": [
              "[(3.0,)]"
            ]
          },
          "metadata": {
            "tags": []
          },
          "execution_count": 53
        }
      ]
    },
    {
      "cell_type": "code",
      "metadata": {
        "colab": {
          "base_uri": "https://localhost:8080/",
          "height": 95
        },
        "id": "8AQCMFqKMkqZ",
        "outputId": "8b22e7df-1701-4b0e-9f13-706593f2afbe"
      },
      "source": [
        "%%sql\n",
        "SELECT COUNT (total_rooms)\n",
        "FROM SGR\n"
      ],
      "execution_count": 54,
      "outputs": [
        {
          "output_type": "stream",
          "text": [
            " * sqlite://\n",
            "Done.\n"
          ],
          "name": "stdout"
        },
        {
          "output_type": "execute_result",
          "data": {
            "text/html": [
              "<table>\n",
              "    <thead>\n",
              "        <tr>\n",
              "            <th>COUNT (total_rooms)</th>\n",
              "        </tr>\n",
              "    </thead>\n",
              "    <tbody>\n",
              "        <tr>\n",
              "            <td>16584</td>\n",
              "        </tr>\n",
              "    </tbody>\n",
              "</table>"
            ],
            "text/plain": [
              "[(16584,)]"
            ]
          },
          "metadata": {
            "tags": []
          },
          "execution_count": 54
        }
      ]
    },
    {
      "cell_type": "code",
      "metadata": {
        "colab": {
          "base_uri": "https://localhost:8080/",
          "height": 95
        },
        "id": "YnaDg4cbN5Vw",
        "outputId": "a9a29a87-05d1-4d0b-e282-fcb2073fb607"
      },
      "source": [
        "%%sql\n",
        "SELECT COUNT (latitude) FROM SGR \n",
        "WHERE latitude %5;"
      ],
      "execution_count": 55,
      "outputs": [
        {
          "output_type": "stream",
          "text": [
            " * sqlite://\n",
            "Done.\n"
          ],
          "name": "stdout"
        },
        {
          "output_type": "execute_result",
          "data": {
            "text/html": [
              "<table>\n",
              "    <thead>\n",
              "        <tr>\n",
              "            <th>COUNT (latitude)</th>\n",
              "        </tr>\n",
              "    </thead>\n",
              "    <tbody>\n",
              "        <tr>\n",
              "            <td>15922</td>\n",
              "        </tr>\n",
              "    </tbody>\n",
              "</table>"
            ],
            "text/plain": [
              "[(15922,)]"
            ]
          },
          "metadata": {
            "tags": []
          },
          "execution_count": 55
        }
      ]
    },
    {
      "cell_type": "code",
      "metadata": {
        "colab": {
          "base_uri": "https://localhost:8080/",
          "height": 95
        },
        "id": "OrJ9qTUWOe5C",
        "outputId": "6ad51945-c94e-4ede-9753-85dedef16ec4"
      },
      "source": [
        "%%sql\n",
        "SELECT AVG(population)\n",
        "FROM SGR;"
      ],
      "execution_count": 56,
      "outputs": [
        {
          "output_type": "stream",
          "text": [
            " * sqlite://\n",
            "Done.\n"
          ],
          "name": "stdout"
        },
        {
          "output_type": "execute_result",
          "data": {
            "text/html": [
              "<table>\n",
              "    <thead>\n",
              "        <tr>\n",
              "            <th>AVG(population)</th>\n",
              "        </tr>\n",
              "    </thead>\n",
              "    <tbody>\n",
              "        <tr>\n",
              "            <td>1424.4389170284612</td>\n",
              "        </tr>\n",
              "    </tbody>\n",
              "</table>"
            ],
            "text/plain": [
              "[(1424.4389170284612,)]"
            ]
          },
          "metadata": {
            "tags": []
          },
          "execution_count": 56
        }
      ]
    },
    {
      "cell_type": "code",
      "metadata": {
        "colab": {
          "base_uri": "https://localhost:8080/",
          "height": 95
        },
        "id": "GNPND0UoPFdG",
        "outputId": "476a6ff0-6d04-4dc0-bb2a-6359cf0eb27c"
      },
      "source": [
        "%%sql\n",
        "SELECT SUM (population)\n",
        "FROM SGR;"
      ],
      "execution_count": 57,
      "outputs": [
        {
          "output_type": "stream",
          "text": [
            " * sqlite://\n",
            "Done.\n"
          ],
          "name": "stdout"
        },
        {
          "output_type": "execute_result",
          "data": {
            "text/html": [
              "<table>\n",
              "    <thead>\n",
              "        <tr>\n",
              "            <th>SUM (population)</th>\n",
              "        </tr>\n",
              "    </thead>\n",
              "    <tbody>\n",
              "        <tr>\n",
              "            <td>23622895.0</td>\n",
              "        </tr>\n",
              "    </tbody>\n",
              "</table>"
            ],
            "text/plain": [
              "[(23622895.0,)]"
            ]
          },
          "metadata": {
            "tags": []
          },
          "execution_count": 57
        }
      ]
    },
    {
      "cell_type": "code",
      "metadata": {
        "colab": {
          "base_uri": "https://localhost:8080/",
          "height": 178
        },
        "id": "oFnthiYEPcBo",
        "outputId": "35b479d3-5d30-4111-d88a-d5609e162628"
      },
      "source": [
        "%%sql\n",
        "SELECT * FROM SGR\n",
        "WHERE latitude LIKE '4%' lIMIT 4;"
      ],
      "execution_count": 58,
      "outputs": [
        {
          "output_type": "stream",
          "text": [
            " * sqlite://\n",
            "Done.\n"
          ],
          "name": "stdout"
        },
        {
          "output_type": "execute_result",
          "data": {
            "text/html": [
              "<table>\n",
              "    <thead>\n",
              "        <tr>\n",
              "            <th>longitude</th>\n",
              "            <th>latitude</th>\n",
              "            <th>housing_median_age</th>\n",
              "            <th>total_rooms</th>\n",
              "            <th>total_bedrooms</th>\n",
              "            <th>population</th>\n",
              "            <th>households</th>\n",
              "            <th>median_income</th>\n",
              "            <th>median_house_value</th>\n",
              "        </tr>\n",
              "    </thead>\n",
              "    <tbody>\n",
              "        <tr>\n",
              "            <td>-120.08</td>\n",
              "            <td>41.79</td>\n",
              "            <td>34.0</td>\n",
              "            <td>1355.0</td>\n",
              "            <td>262.0</td>\n",
              "            <td>434.0</td>\n",
              "            <td>178.0</td>\n",
              "            <td>2.0903</td>\n",
              "            <td>56100.0</td>\n",
              "        </tr>\n",
              "        <tr>\n",
              "            <td>-120.12</td>\n",
              "            <td>41.4</td>\n",
              "            <td>33.0</td>\n",
              "            <td>2820.0</td>\n",
              "            <td>515.0</td>\n",
              "            <td>976.0</td>\n",
              "            <td>403.0</td>\n",
              "            <td>2.6062</td>\n",
              "            <td>52600.0</td>\n",
              "        </tr>\n",
              "        <tr>\n",
              "            <td>-120.2</td>\n",
              "            <td>40.26</td>\n",
              "            <td>26.0</td>\n",
              "            <td>2399.0</td>\n",
              "            <td>518.0</td>\n",
              "            <td>1037.0</td>\n",
              "            <td>443.0</td>\n",
              "            <td>2.6765</td>\n",
              "            <td>47600.0</td>\n",
              "        </tr>\n",
              "        <tr>\n",
              "            <td>-120.35</td>\n",
              "            <td>40.63</td>\n",
              "            <td>33.0</td>\n",
              "            <td>240.0</td>\n",
              "            <td>49.0</td>\n",
              "            <td>63.0</td>\n",
              "            <td>22.0</td>\n",
              "            <td>3.625</td>\n",
              "            <td>200000.0</td>\n",
              "        </tr>\n",
              "    </tbody>\n",
              "</table>"
            ],
            "text/plain": [
              "[(-120.08, 41.79, 34.0, 1355.0, 262.0, 434.0, 178.0, 2.0903, 56100.0),\n",
              " (-120.12, 41.4, 33.0, 2820.0, 515.0, 976.0, 403.0, 2.6062, 52600.0),\n",
              " (-120.2, 40.26, 26.0, 2399.0, 518.0, 1037.0, 443.0, 2.6765, 47600.0),\n",
              " (-120.35, 40.63, 33.0, 240.0, 49.0, 63.0, 22.0, 3.625, 200000.0)]"
            ]
          },
          "metadata": {
            "tags": []
          },
          "execution_count": 58
        }
      ]
    },
    {
      "cell_type": "code",
      "metadata": {
        "colab": {
          "base_uri": "https://localhost:8080/",
          "height": 178
        },
        "id": "kv7iPOfDQsYU",
        "outputId": "b5053382-15b7-4baf-fdbd-dcd65e174bf6"
      },
      "source": [
        "%%sql\n",
        "SELECT * FROM SGR WHERE total_rooms LIKE '4%' LIMIT 4;"
      ],
      "execution_count": 59,
      "outputs": [
        {
          "output_type": "stream",
          "text": [
            " * sqlite://\n",
            "Done.\n"
          ],
          "name": "stdout"
        },
        {
          "output_type": "execute_result",
          "data": {
            "text/html": [
              "<table>\n",
              "    <thead>\n",
              "        <tr>\n",
              "            <th>longitude</th>\n",
              "            <th>latitude</th>\n",
              "            <th>housing_median_age</th>\n",
              "            <th>total_rooms</th>\n",
              "            <th>total_bedrooms</th>\n",
              "            <th>population</th>\n",
              "            <th>households</th>\n",
              "            <th>median_income</th>\n",
              "            <th>median_house_value</th>\n",
              "        </tr>\n",
              "    </thead>\n",
              "    <tbody>\n",
              "        <tr>\n",
              "            <td>-114.59</td>\n",
              "            <td>33.61</td>\n",
              "            <td>34.0</td>\n",
              "            <td>4789.0</td>\n",
              "            <td>1175.0</td>\n",
              "            <td>3134.0</td>\n",
              "            <td>1056.0</td>\n",
              "            <td>2.1782</td>\n",
              "            <td>58400.0</td>\n",
              "        </tr>\n",
              "        <tr>\n",
              "            <td>-114.65</td>\n",
              "            <td>32.79</td>\n",
              "            <td>21.0</td>\n",
              "            <td>44.0</td>\n",
              "            <td>33.0</td>\n",
              "            <td>64.0</td>\n",
              "            <td>27.0</td>\n",
              "            <td>0.8571</td>\n",
              "            <td>25000.0</td>\n",
              "        </tr>\n",
              "        <tr>\n",
              "            <td>-115.73</td>\n",
              "            <td>33.09</td>\n",
              "            <td>27.0</td>\n",
              "            <td>452.0</td>\n",
              "            <td>103.0</td>\n",
              "            <td>258.0</td>\n",
              "            <td>61.0</td>\n",
              "            <td>2.9</td>\n",
              "            <td>87500.0</td>\n",
              "        </tr>\n",
              "        <tr>\n",
              "            <td>-115.73</td>\n",
              "            <td>32.8</td>\n",
              "            <td>44.0</td>\n",
              "            <td>472.0</td>\n",
              "            <td>81.0</td>\n",
              "            <td>206.0</td>\n",
              "            <td>57.0</td>\n",
              "            <td>2.2083</td>\n",
              "            <td>93800.0</td>\n",
              "        </tr>\n",
              "    </tbody>\n",
              "</table>"
            ],
            "text/plain": [
              "[(-114.59, 33.61, 34.0, 4789.0, 1175.0, 3134.0, 1056.0, 2.1782, 58400.0),\n",
              " (-114.65, 32.79, 21.0, 44.0, 33.0, 64.0, 27.0, 0.8571, 25000.0),\n",
              " (-115.73, 33.09, 27.0, 452.0, 103.0, 258.0, 61.0, 2.9, 87500.0),\n",
              " (-115.73, 32.8, 44.0, 472.0, 81.0, 206.0, 57.0, 2.2083, 93800.0)]"
            ]
          },
          "metadata": {
            "tags": []
          },
          "execution_count": 59
        }
      ]
    },
    {
      "cell_type": "code",
      "metadata": {
        "colab": {
          "base_uri": "https://localhost:8080/",
          "height": 178
        },
        "id": "KVpzgZZhRfzo",
        "outputId": "450b64b8-a422-4f66-ff65-19b3770412c1"
      },
      "source": [
        "%%sql\n",
        "SELECT * FROM SGR\n",
        "WHERE latitude LIKE '%33.61%' LIMIT 4;"
      ],
      "execution_count": 60,
      "outputs": [
        {
          "output_type": "stream",
          "text": [
            " * sqlite://\n",
            "Done.\n"
          ],
          "name": "stdout"
        },
        {
          "output_type": "execute_result",
          "data": {
            "text/html": [
              "<table>\n",
              "    <thead>\n",
              "        <tr>\n",
              "            <th>longitude</th>\n",
              "            <th>latitude</th>\n",
              "            <th>housing_median_age</th>\n",
              "            <th>total_rooms</th>\n",
              "            <th>total_bedrooms</th>\n",
              "            <th>population</th>\n",
              "            <th>households</th>\n",
              "            <th>median_income</th>\n",
              "            <th>median_house_value</th>\n",
              "        </tr>\n",
              "    </thead>\n",
              "    <tbody>\n",
              "        <tr>\n",
              "            <td>-114.58</td>\n",
              "            <td>33.61</td>\n",
              "            <td>25.0</td>\n",
              "            <td>2907.0</td>\n",
              "            <td>680.0</td>\n",
              "            <td>1841.0</td>\n",
              "            <td>633.0</td>\n",
              "            <td>2.6768</td>\n",
              "            <td>82400.0</td>\n",
              "        </tr>\n",
              "        <tr>\n",
              "            <td>-114.59</td>\n",
              "            <td>33.61</td>\n",
              "            <td>34.0</td>\n",
              "            <td>4789.0</td>\n",
              "            <td>1175.0</td>\n",
              "            <td>3134.0</td>\n",
              "            <td>1056.0</td>\n",
              "            <td>2.1782</td>\n",
              "            <td>58400.0</td>\n",
              "        </tr>\n",
              "        <tr>\n",
              "            <td>-116.48</td>\n",
              "            <td>33.61</td>\n",
              "            <td>8.0</td>\n",
              "            <td>1294.0</td>\n",
              "            <td>272.0</td>\n",
              "            <td>457.0</td>\n",
              "            <td>199.0</td>\n",
              "            <td>2.9167</td>\n",
              "            <td>115300.0</td>\n",
              "        </tr>\n",
              "        <tr>\n",
              "            <td>-117.16</td>\n",
              "            <td>33.61</td>\n",
              "            <td>3.0</td>\n",
              "            <td>2744.0</td>\n",
              "            <td>428.0</td>\n",
              "            <td>1223.0</td>\n",
              "            <td>366.0</td>\n",
              "            <td>4.7944</td>\n",
              "            <td>215300.0</td>\n",
              "        </tr>\n",
              "    </tbody>\n",
              "</table>"
            ],
            "text/plain": [
              "[(-114.58, 33.61, 25.0, 2907.0, 680.0, 1841.0, 633.0, 2.6768, 82400.0),\n",
              " (-114.59, 33.61, 34.0, 4789.0, 1175.0, 3134.0, 1056.0, 2.1782, 58400.0),\n",
              " (-116.48, 33.61, 8.0, 1294.0, 272.0, 457.0, 199.0, 2.9167, 115300.0),\n",
              " (-117.16, 33.61, 3.0, 2744.0, 428.0, 1223.0, 366.0, 4.7944, 215300.0)]"
            ]
          },
          "metadata": {
            "tags": []
          },
          "execution_count": 60
        }
      ]
    },
    {
      "cell_type": "code",
      "metadata": {
        "colab": {
          "base_uri": "https://localhost:8080/",
          "height": 178
        },
        "id": "OyA1F_Wik0F_",
        "outputId": "07787a1b-7693-4d87-edd6-3abd421933ae"
      },
      "source": [
        "%%sql\n",
        "SELECT * FROM SGR\n",
        "WHERE total_bedrooms LIKE '%680.0%' LIMIT 4;"
      ],
      "execution_count": 61,
      "outputs": [
        {
          "output_type": "stream",
          "text": [
            " * sqlite://\n",
            "Done.\n"
          ],
          "name": "stdout"
        },
        {
          "output_type": "execute_result",
          "data": {
            "text/html": [
              "<table>\n",
              "    <thead>\n",
              "        <tr>\n",
              "            <th>longitude</th>\n",
              "            <th>latitude</th>\n",
              "            <th>housing_median_age</th>\n",
              "            <th>total_rooms</th>\n",
              "            <th>total_bedrooms</th>\n",
              "            <th>population</th>\n",
              "            <th>households</th>\n",
              "            <th>median_income</th>\n",
              "            <th>median_house_value</th>\n",
              "        </tr>\n",
              "    </thead>\n",
              "    <tbody>\n",
              "        <tr>\n",
              "            <td>-114.58</td>\n",
              "            <td>33.61</td>\n",
              "            <td>25.0</td>\n",
              "            <td>2907.0</td>\n",
              "            <td>680.0</td>\n",
              "            <td>1841.0</td>\n",
              "            <td>633.0</td>\n",
              "            <td>2.6768</td>\n",
              "            <td>82400.0</td>\n",
              "        </tr>\n",
              "        <tr>\n",
              "            <td>-117.81</td>\n",
              "            <td>33.87</td>\n",
              "            <td>19.0</td>\n",
              "            <td>4491.0</td>\n",
              "            <td>680.0</td>\n",
              "            <td>2457.0</td>\n",
              "            <td>702.0</td>\n",
              "            <td>6.0591</td>\n",
              "            <td>233500.0</td>\n",
              "        </tr>\n",
              "        <tr>\n",
              "            <td>-118.32</td>\n",
              "            <td>33.9</td>\n",
              "            <td>35.0</td>\n",
              "            <td>3189.0</td>\n",
              "            <td>680.0</td>\n",
              "            <td>1882.0</td>\n",
              "            <td>651.0</td>\n",
              "            <td>3.6625</td>\n",
              "            <td>188000.0</td>\n",
              "        </tr>\n",
              "        <tr>\n",
              "            <td>-118.35</td>\n",
              "            <td>33.98</td>\n",
              "            <td>42.0</td>\n",
              "            <td>3081.0</td>\n",
              "            <td>680.0</td>\n",
              "            <td>1785.0</td>\n",
              "            <td>609.0</td>\n",
              "            <td>3.745</td>\n",
              "            <td>170800.0</td>\n",
              "        </tr>\n",
              "    </tbody>\n",
              "</table>"
            ],
            "text/plain": [
              "[(-114.58, 33.61, 25.0, 2907.0, 680.0, 1841.0, 633.0, 2.6768, 82400.0),\n",
              " (-117.81, 33.87, 19.0, 4491.0, 680.0, 2457.0, 702.0, 6.0591, 233500.0),\n",
              " (-118.32, 33.9, 35.0, 3189.0, 680.0, 1882.0, 651.0, 3.6625, 188000.0),\n",
              " (-118.35, 33.98, 42.0, 3081.0, 680.0, 1785.0, 609.0, 3.745, 170800.0)]"
            ]
          },
          "metadata": {
            "tags": []
          },
          "execution_count": 61
        }
      ]
    },
    {
      "cell_type": "code",
      "metadata": {
        "colab": {
          "base_uri": "https://localhost:8080/",
          "height": 178
        },
        "id": "1Gw0xk_BpB3S",
        "outputId": "7fad284b-fce3-4258-8627-eb2382e3fad4"
      },
      "source": [
        "%%sql \n",
        "SELECT * FROM SGR \n",
        "WHERE housing_median_age like '%25%' LIMIT 4;"
      ],
      "execution_count": 62,
      "outputs": [
        {
          "output_type": "stream",
          "text": [
            " * sqlite://\n",
            "Done.\n"
          ],
          "name": "stdout"
        },
        {
          "output_type": "execute_result",
          "data": {
            "text/html": [
              "<table>\n",
              "    <thead>\n",
              "        <tr>\n",
              "            <th>longitude</th>\n",
              "            <th>latitude</th>\n",
              "            <th>housing_median_age</th>\n",
              "            <th>total_rooms</th>\n",
              "            <th>total_bedrooms</th>\n",
              "            <th>population</th>\n",
              "            <th>households</th>\n",
              "            <th>median_income</th>\n",
              "            <th>median_house_value</th>\n",
              "        </tr>\n",
              "    </thead>\n",
              "    <tbody>\n",
              "        <tr>\n",
              "            <td>-114.58</td>\n",
              "            <td>33.61</td>\n",
              "            <td>25.0</td>\n",
              "            <td>2907.0</td>\n",
              "            <td>680.0</td>\n",
              "            <td>1841.0</td>\n",
              "            <td>633.0</td>\n",
              "            <td>2.6768</td>\n",
              "            <td>82400.0</td>\n",
              "        </tr>\n",
              "        <tr>\n",
              "            <td>-115.49</td>\n",
              "            <td>32.67</td>\n",
              "            <td>25.0</td>\n",
              "            <td>2322.0</td>\n",
              "            <td>573.0</td>\n",
              "            <td>2185.0</td>\n",
              "            <td>602.0</td>\n",
              "            <td>1.375</td>\n",
              "            <td>70100.0</td>\n",
              "        </tr>\n",
              "        <tr>\n",
              "            <td>-115.53</td>\n",
              "            <td>32.99</td>\n",
              "            <td>25.0</td>\n",
              "            <td>2578.0</td>\n",
              "            <td>634.0</td>\n",
              "            <td>2082.0</td>\n",
              "            <td>565.0</td>\n",
              "            <td>1.7159</td>\n",
              "            <td>62200.0</td>\n",
              "        </tr>\n",
              "        <tr>\n",
              "            <td>-115.56</td>\n",
              "            <td>32.8</td>\n",
              "            <td>25.0</td>\n",
              "            <td>1311.0</td>\n",
              "            <td>375.0</td>\n",
              "            <td>1193.0</td>\n",
              "            <td>351.0</td>\n",
              "            <td>2.1979</td>\n",
              "            <td>63900.0</td>\n",
              "        </tr>\n",
              "    </tbody>\n",
              "</table>"
            ],
            "text/plain": [
              "[(-114.58, 33.61, 25.0, 2907.0, 680.0, 1841.0, 633.0, 2.6768, 82400.0),\n",
              " (-115.49, 32.67, 25.0, 2322.0, 573.0, 2185.0, 602.0, 1.375, 70100.0),\n",
              " (-115.53, 32.99, 25.0, 2578.0, 634.0, 2082.0, 565.0, 1.7159, 62200.0),\n",
              " (-115.56, 32.8, 25.0, 1311.0, 375.0, 1193.0, 351.0, 2.1979, 63900.0)]"
            ]
          },
          "metadata": {
            "tags": []
          },
          "execution_count": 62
        }
      ]
    },
    {
      "cell_type": "code",
      "metadata": {
        "colab": {
          "base_uri": "https://localhost:8080/",
          "height": 199
        },
        "id": "XrncANWBq7Ao",
        "outputId": "14724d67-2447-49ca-b2be-28268e10fbc7"
      },
      "source": [
        "%%sql\n",
        "SELECT * FROM SGR\n",
        "WHERE mediaN_income like '%4.5%' LIMIT 5;"
      ],
      "execution_count": 63,
      "outputs": [
        {
          "output_type": "stream",
          "text": [
            " * sqlite://\n",
            "Done.\n"
          ],
          "name": "stdout"
        },
        {
          "output_type": "execute_result",
          "data": {
            "text/html": [
              "<table>\n",
              "    <thead>\n",
              "        <tr>\n",
              "            <th>longitude</th>\n",
              "            <th>latitude</th>\n",
              "            <th>housing_median_age</th>\n",
              "            <th>total_rooms</th>\n",
              "            <th>total_bedrooms</th>\n",
              "            <th>population</th>\n",
              "            <th>households</th>\n",
              "            <th>median_income</th>\n",
              "            <th>median_house_value</th>\n",
              "        </tr>\n",
              "    </thead>\n",
              "    <tbody>\n",
              "        <tr>\n",
              "            <td>-116.38</td>\n",
              "            <td>33.71</td>\n",
              "            <td>17.0</td>\n",
              "            <td>12509.0</td>\n",
              "            <td>2460.0</td>\n",
              "            <td>2737.0</td>\n",
              "            <td>1423.0</td>\n",
              "            <td>4.5556</td>\n",
              "            <td>258100.0</td>\n",
              "        </tr>\n",
              "        <tr>\n",
              "            <td>-116.52</td>\n",
              "            <td>32.9</td>\n",
              "            <td>18.0</td>\n",
              "            <td>4454.0</td>\n",
              "            <td>852.0</td>\n",
              "            <td>1754.0</td>\n",
              "            <td>656.0</td>\n",
              "            <td>4.57</td>\n",
              "            <td>189900.0</td>\n",
              "        </tr>\n",
              "        <tr>\n",
              "            <td>-116.91</td>\n",
              "            <td>32.85</td>\n",
              "            <td>21.0</td>\n",
              "            <td>4152.0</td>\n",
              "            <td>703.0</td>\n",
              "            <td>2255.0</td>\n",
              "            <td>697.0</td>\n",
              "            <td>4.5096</td>\n",
              "            <td>159500.0</td>\n",
              "        </tr>\n",
              "        <tr>\n",
              "            <td>-116.94</td>\n",
              "            <td>32.84</td>\n",
              "            <td>32.0</td>\n",
              "            <td>1607.0</td>\n",
              "            <td>253.0</td>\n",
              "            <td>778.0</td>\n",
              "            <td>262.0</td>\n",
              "            <td>4.5278</td>\n",
              "            <td>166300.0</td>\n",
              "        </tr>\n",
              "        <tr>\n",
              "            <td>-116.95</td>\n",
              "            <td>32.96</td>\n",
              "            <td>18.0</td>\n",
              "            <td>2087.0</td>\n",
              "            <td>353.0</td>\n",
              "            <td>992.0</td>\n",
              "            <td>329.0</td>\n",
              "            <td>4.5</td>\n",
              "            <td>222600.0</td>\n",
              "        </tr>\n",
              "    </tbody>\n",
              "</table>"
            ],
            "text/plain": [
              "[(-116.38, 33.71, 17.0, 12509.0, 2460.0, 2737.0, 1423.0, 4.5556, 258100.0),\n",
              " (-116.52, 32.9, 18.0, 4454.0, 852.0, 1754.0, 656.0, 4.57, 189900.0),\n",
              " (-116.91, 32.85, 21.0, 4152.0, 703.0, 2255.0, 697.0, 4.5096, 159500.0),\n",
              " (-116.94, 32.84, 32.0, 1607.0, 253.0, 778.0, 262.0, 4.5278, 166300.0),\n",
              " (-116.95, 32.96, 18.0, 2087.0, 353.0, 992.0, 329.0, 4.5, 222600.0)]"
            ]
          },
          "metadata": {
            "tags": []
          },
          "execution_count": 63
        }
      ]
    },
    {
      "cell_type": "code",
      "metadata": {
        "colab": {
          "base_uri": "https://localhost:8080/",
          "height": 116
        },
        "id": "XvBuBMsUtBs5",
        "outputId": "28445cb5-9a10-443d-ede0-15e3293105d8"
      },
      "source": [
        "%%sql\n",
        "SELECT latitude , housing_median_age\n",
        "FROM SGR\n",
        "WHERE housing_median_age IN (21.0) limit 2;"
      ],
      "execution_count": 64,
      "outputs": [
        {
          "output_type": "stream",
          "text": [
            " * sqlite://\n",
            "Done.\n"
          ],
          "name": "stdout"
        },
        {
          "output_type": "execute_result",
          "data": {
            "text/html": [
              "<table>\n",
              "    <thead>\n",
              "        <tr>\n",
              "            <th>latitude</th>\n",
              "            <th>housing_median_age</th>\n",
              "        </tr>\n",
              "    </thead>\n",
              "    <tbody>\n",
              "        <tr>\n",
              "            <td>33.6</td>\n",
              "            <td>21.0</td>\n",
              "        </tr>\n",
              "        <tr>\n",
              "            <td>32.79</td>\n",
              "            <td>21.0</td>\n",
              "        </tr>\n",
              "    </tbody>\n",
              "</table>"
            ],
            "text/plain": [
              "[(33.6, 21.0), (32.79, 21.0)]"
            ]
          },
          "metadata": {
            "tags": []
          },
          "execution_count": 64
        }
      ]
    },
    {
      "cell_type": "code",
      "metadata": {
        "colab": {
          "base_uri": "https://localhost:8080/",
          "height": 94
        },
        "id": "SLb_1dBFvACp",
        "outputId": "367d9834-bf3c-42be-dd7a-22139991f49b"
      },
      "source": [
        "%%sql\n",
        "SELECT *FROM SGR\n",
        "WHERE longitude BETWEEN 32.9 AND 33.0 LIMIT 7;"
      ],
      "execution_count": 65,
      "outputs": [
        {
          "output_type": "stream",
          "text": [
            " * sqlite://\n",
            "Done.\n"
          ],
          "name": "stdout"
        },
        {
          "output_type": "execute_result",
          "data": {
            "text/html": [
              "<table>\n",
              "    <thead>\n",
              "        <tr>\n",
              "            <th>longitude</th>\n",
              "            <th>latitude</th>\n",
              "            <th>housing_median_age</th>\n",
              "            <th>total_rooms</th>\n",
              "            <th>total_bedrooms</th>\n",
              "            <th>population</th>\n",
              "            <th>households</th>\n",
              "            <th>median_income</th>\n",
              "            <th>median_house_value</th>\n",
              "        </tr>\n",
              "    </thead>\n",
              "    <tbody>\n",
              "    </tbody>\n",
              "</table>"
            ],
            "text/plain": [
              "[]"
            ]
          },
          "metadata": {
            "tags": []
          },
          "execution_count": 65
        }
      ]
    },
    {
      "cell_type": "code",
      "metadata": {
        "colab": {
          "base_uri": "https://localhost:8080/",
          "height": 220
        },
        "id": "NqJTyY4LzSJF",
        "outputId": "8275ccae-71e4-4e55-d50e-2cab28bc5f3d"
      },
      "source": [
        "%%sql\n",
        "SELECT * FROM SGR LIMIT 6;\n"
      ],
      "execution_count": 69,
      "outputs": [
        {
          "output_type": "stream",
          "text": [
            " * sqlite://\n",
            "Done.\n"
          ],
          "name": "stdout"
        },
        {
          "output_type": "execute_result",
          "data": {
            "text/html": [
              "<table>\n",
              "    <thead>\n",
              "        <tr>\n",
              "            <th>longitude</th>\n",
              "            <th>latitude</th>\n",
              "            <th>housing_median_age</th>\n",
              "            <th>total_rooms</th>\n",
              "            <th>total_bedrooms</th>\n",
              "            <th>population</th>\n",
              "            <th>households</th>\n",
              "            <th>median_income</th>\n",
              "            <th>median_house_value</th>\n",
              "        </tr>\n",
              "    </thead>\n",
              "    <tbody>\n",
              "        <tr>\n",
              "            <td>-114.47</td>\n",
              "            <td>34.4</td>\n",
              "            <td>24.0</td>\n",
              "            <td>7650.0</td>\n",
              "            <td>10,000</td>\n",
              "            <td>1129.0</td>\n",
              "            <td>463.0</td>\n",
              "            <td>1.82</td>\n",
              "            <td>80100.0</td>\n",
              "        </tr>\n",
              "        <tr>\n",
              "            <td>-114.56</td>\n",
              "            <td>33.69</td>\n",
              "            <td>17.0</td>\n",
              "            <td>720.0</td>\n",
              "            <td>174.0</td>\n",
              "            <td>333.0</td>\n",
              "            <td>117.0</td>\n",
              "            <td>1.6509</td>\n",
              "            <td>85700.0</td>\n",
              "        </tr>\n",
              "        <tr>\n",
              "            <td>-114.57</td>\n",
              "            <td>33.64</td>\n",
              "            <td>14.0</td>\n",
              "            <td>1501.0</td>\n",
              "            <td>337.0</td>\n",
              "            <td>515.0</td>\n",
              "            <td>226.0</td>\n",
              "            <td>3.1917</td>\n",
              "            <td>73400.0</td>\n",
              "        </tr>\n",
              "        <tr>\n",
              "            <td>-114.57</td>\n",
              "            <td>33.57</td>\n",
              "            <td>20.0</td>\n",
              "            <td>1454.0</td>\n",
              "            <td>326.0</td>\n",
              "            <td>624.0</td>\n",
              "            <td>262.0</td>\n",
              "            <td>1.925</td>\n",
              "            <td>65500.0</td>\n",
              "        </tr>\n",
              "        <tr>\n",
              "            <td>-114.58</td>\n",
              "            <td>33.63</td>\n",
              "            <td>29.0</td>\n",
              "            <td>1387.0</td>\n",
              "            <td>236.0</td>\n",
              "            <td>671.0</td>\n",
              "            <td>239.0</td>\n",
              "            <td>3.3438</td>\n",
              "            <td>74000.0</td>\n",
              "        </tr>\n",
              "        <tr>\n",
              "            <td>-114.58</td>\n",
              "            <td>33.61</td>\n",
              "            <td>25.0</td>\n",
              "            <td>2907.0</td>\n",
              "            <td>680.0</td>\n",
              "            <td>1841.0</td>\n",
              "            <td>633.0</td>\n",
              "            <td>2.6768</td>\n",
              "            <td>82400.0</td>\n",
              "        </tr>\n",
              "    </tbody>\n",
              "</table>"
            ],
            "text/plain": [
              "[(-114.47, 34.4, 24.0, 7650.0, '10,000', 1129.0, 463.0, 1.82, 80100.0),\n",
              " (-114.56, 33.69, 17.0, 720.0, 174.0, 333.0, 117.0, 1.6509, 85700.0),\n",
              " (-114.57, 33.64, 14.0, 1501.0, 337.0, 515.0, 226.0, 3.1917, 73400.0),\n",
              " (-114.57, 33.57, 20.0, 1454.0, 326.0, 624.0, 262.0, 1.925, 65500.0),\n",
              " (-114.58, 33.63, 29.0, 1387.0, 236.0, 671.0, 239.0, 3.3438, 74000.0),\n",
              " (-114.58, 33.61, 25.0, 2907.0, 680.0, 1841.0, 633.0, 2.6768, 82400.0)]"
            ]
          },
          "metadata": {
            "tags": []
          },
          "execution_count": 69
        }
      ]
    },
    {
      "cell_type": "code",
      "metadata": {
        "colab": {
          "base_uri": "https://localhost:8080/",
          "height": 264
        },
        "id": "lkIR1Dy_EEzd",
        "outputId": "cb02271d-a742-4493-be30-1e154f5830f4"
      },
      "source": [
        "%%sql\n",
        "SELECT * FROM Interpol Limit 5;"
      ],
      "execution_count": 72,
      "outputs": [
        {
          "output_type": "stream",
          "text": [
            " * sqlite://\n",
            "Done.\n"
          ],
          "name": "stdout"
        },
        {
          "output_type": "execute_result",
          "data": {
            "text/html": [
              "<table>\n",
              "    <thead>\n",
              "        <tr>\n",
              "            <th>Country</th>\n",
              "            <th>National Fugitives</th>\n",
              "            <th>Wanted Fugitives</th>\n",
              "            <th>Possible Hosted Fugitives / Captured Fugitives</th>\n",
              "            <th>Region</th>\n",
              "            <th>Flag</th>\n",
              "        </tr>\n",
              "    </thead>\n",
              "    <tbody>\n",
              "        <tr>\n",
              "            <td>Albania</td>\n",
              "            <td>3</td>\n",
              "            <td>3</td>\n",
              "            <td>0</td>\n",
              "            <td>Europe</td>\n",
              "            <td>David.Okoyo@outlook.com</td>\n",
              "        </tr>\n",
              "        <tr>\n",
              "            <td>Argentina</td>\n",
              "            <td>2</td>\n",
              "            <td>2</td>\n",
              "            <td>1</td>\n",
              "            <td>South America</td>\n",
              "            <td>http://www.crwflags.com/fotw/images/a/ar.gif</td>\n",
              "        </tr>\n",
              "        <tr>\n",
              "            <td>Australia</td>\n",
              "            <td>1</td>\n",
              "            <td>1</td>\n",
              "            <td>2</td>\n",
              "            <td>Oceania</td>\n",
              "            <td>http://www.crwflags.com/fotw/images/a/au.gif</td>\n",
              "        </tr>\n",
              "        <tr>\n",
              "            <td>Austria</td>\n",
              "            <td>1</td>\n",
              "            <td>1</td>\n",
              "            <td>0</td>\n",
              "            <td>Europe</td>\n",
              "            <td>http://www.crwflags.com/fotw/images/a/at.gif</td>\n",
              "        </tr>\n",
              "        <tr>\n",
              "            <td>Bangladesh</td>\n",
              "            <td>2</td>\n",
              "            <td>1</td>\n",
              "            <td>1</td>\n",
              "            <td>Asia</td>\n",
              "            <td>http://www.crwflags.com/fotw/images/b/bd.gif</td>\n",
              "        </tr>\n",
              "    </tbody>\n",
              "</table>"
            ],
            "text/plain": [
              "[('Albania', 3, 3, 0, 'Europe', 'David.Okoyo@outlook.com'),\n",
              " ('Argentina', 2, 2, 1, 'South America', 'http://www.crwflags.com/fotw/images/a/ar.gif'),\n",
              " ('Australia', 1, 1, 2, 'Oceania', 'http://www.crwflags.com/fotw/images/a/au.gif'),\n",
              " ('Austria', 1, 1, 0, 'Europe', 'http://www.crwflags.com/fotw/images/a/at.gif'),\n",
              " ('Bangladesh', 2, 1, 1, 'Asia', 'http://www.crwflags.com/fotw/images/b/bd.gif')]"
            ]
          },
          "metadata": {
            "tags": []
          },
          "execution_count": 72
        }
      ]
    },
    {
      "cell_type": "code",
      "metadata": {
        "colab": {
          "base_uri": "https://localhost:8080/",
          "height": 103
        },
        "id": "k2BX_3OkGAPM",
        "outputId": "e59cf7fd-a1f1-4ed2-87ab-89fb1f394729"
      },
      "source": [
        "%sql\n",
        "%sql DROP TABLE if EXISTS Interpol;\n",
        "%sql PERSIST Interpol"
      ],
      "execution_count": 73,
      "outputs": [
        {
          "output_type": "stream",
          "text": [
            " * sqlite://\n",
            " * sqlite://\n",
            "Done.\n",
            " * sqlite://\n"
          ],
          "name": "stdout"
        },
        {
          "output_type": "execute_result",
          "data": {
            "application/vnd.google.colaboratory.intrinsic+json": {
              "type": "string"
            },
            "text/plain": [
              "'Persisted interpol'"
            ]
          },
          "metadata": {
            "tags": []
          },
          "execution_count": 73
        }
      ]
    },
    {
      "cell_type": "code",
      "metadata": {
        "colab": {
          "base_uri": "https://localhost:8080/",
          "height": 180
        },
        "id": "vVvgJ8XHFeu7",
        "outputId": "e79fffcc-94a7-49ef-cce8-2d560f557126"
      },
      "source": [
        "%%sql\n",
        "SELECT * FROM Interpol \n",
        "WHERE Country LIKE 'south%';"
      ],
      "execution_count": 78,
      "outputs": [
        {
          "output_type": "stream",
          "text": [
            " * sqlite://\n",
            "Done.\n"
          ],
          "name": "stdout"
        },
        {
          "output_type": "execute_result",
          "data": {
            "text/html": [
              "<table>\n",
              "    <thead>\n",
              "        <tr>\n",
              "            <th>Country</th>\n",
              "            <th>National Fugitives</th>\n",
              "            <th>Wanted Fugitives</th>\n",
              "            <th>Possible Hosted Fugitives / Captured Fugitives</th>\n",
              "            <th>Region</th>\n",
              "            <th>Flag</th>\n",
              "        </tr>\n",
              "    </thead>\n",
              "    <tbody>\n",
              "        <tr>\n",
              "            <td>South Africa</td>\n",
              "            <td>3</td>\n",
              "            <td>2</td>\n",
              "            <td>4</td>\n",
              "            <td>Southern Africa</td>\n",
              "            <td>http://www.crwflags.com/fotw/images/z/za.gif</td>\n",
              "        </tr>\n",
              "    </tbody>\n",
              "</table>"
            ],
            "text/plain": [
              "[('South Africa', 3, 2, 4, 'Southern Africa', 'http://www.crwflags.com/fotw/images/z/za.gif')]"
            ]
          },
          "metadata": {
            "tags": []
          },
          "execution_count": 78
        }
      ]
    },
    {
      "cell_type": "code",
      "metadata": {
        "colab": {
          "base_uri": "https://localhost:8080/",
          "height": 197
        },
        "id": "gM9JKZwBFzit",
        "outputId": "5dcf7988-0663-4f83-8d96-8c8626532497"
      },
      "source": [
        "%%sql\n",
        "SELECT * FROM Interpol\n",
        "WHERE Country like 'Congo%';"
      ],
      "execution_count": 79,
      "outputs": [
        {
          "output_type": "stream",
          "text": [
            " * sqlite://\n",
            "Done.\n"
          ],
          "name": "stdout"
        },
        {
          "output_type": "execute_result",
          "data": {
            "text/html": [
              "<table>\n",
              "    <thead>\n",
              "        <tr>\n",
              "            <th>Country</th>\n",
              "            <th>National Fugitives</th>\n",
              "            <th>Wanted Fugitives</th>\n",
              "            <th>Possible Hosted Fugitives / Captured Fugitives</th>\n",
              "            <th>Region</th>\n",
              "            <th>Flag</th>\n",
              "        </tr>\n",
              "    </thead>\n",
              "    <tbody>\n",
              "        <tr>\n",
              "            <td>Congo</td>\n",
              "            <td>0</td>\n",
              "            <td>0</td>\n",
              "            <td>1</td>\n",
              "            <td>Sub Saharan Africa</td>\n",
              "            <td>http://www.crwflags.com/fotw/images/c/cg.gif</td>\n",
              "        </tr>\n",
              "    </tbody>\n",
              "</table>"
            ],
            "text/plain": [
              "[('Congo', 0, 0, 1, 'Sub Saharan Africa', 'http://www.crwflags.com/fotw/images/c/cg.gif')]"
            ]
          },
          "metadata": {
            "tags": []
          },
          "execution_count": 79
        }
      ]
    },
    {
      "cell_type": "code",
      "metadata": {
        "colab": {
          "base_uri": "https://localhost:8080/",
          "height": 276
        },
        "id": "UPE9JLsWGnia",
        "outputId": "996fbdb0-0f5c-4076-aca9-aa8376d6c6c3"
      },
      "source": [
        "%%sql\n",
        "SELECT * FROM Interpol\n",
        "WHERE Country Like 'mo%';"
      ],
      "execution_count": 85,
      "outputs": [
        {
          "output_type": "stream",
          "text": [
            " * sqlite://\n",
            "Done.\n"
          ],
          "name": "stdout"
        },
        {
          "output_type": "execute_result",
          "data": {
            "text/html": [
              "<table>\n",
              "    <thead>\n",
              "        <tr>\n",
              "            <th>Country</th>\n",
              "            <th>National Fugitives</th>\n",
              "            <th>Wanted Fugitives</th>\n",
              "            <th>Possible Hosted Fugitives / Captured Fugitives</th>\n",
              "            <th>Region</th>\n",
              "            <th>Flag</th>\n",
              "        </tr>\n",
              "    </thead>\n",
              "    <tbody>\n",
              "        <tr>\n",
              "            <td>Montenegro</td>\n",
              "            <td>3</td>\n",
              "            <td>2</td>\n",
              "            <td>1</td>\n",
              "            <td>Europe</td>\n",
              "            <td>http://www.crwflags.com/fotw/images/m/me.gif</td>\n",
              "        </tr>\n",
              "        <tr>\n",
              "            <td>Morocco</td>\n",
              "            <td>2</td>\n",
              "            <td>0</td>\n",
              "            <td>3</td>\n",
              "            <td>Northern Africa</td>\n",
              "            <td>http://www.crwflags.com/fotw/images/m/ma.gif</td>\n",
              "        </tr>\n",
              "        <tr>\n",
              "            <td>Mozambique</td>\n",
              "            <td>0</td>\n",
              "            <td>0</td>\n",
              "            <td>2</td>\n",
              "            <td>Southern Africa</td>\n",
              "            <td>http://www.crwflags.com/fotw/images/m/mz.gif</td>\n",
              "        </tr>\n",
              "    </tbody>\n",
              "</table>"
            ],
            "text/plain": [
              "[('Montenegro', 3, 2, 1, 'Europe', 'http://www.crwflags.com/fotw/images/m/me.gif'),\n",
              " ('Morocco', 2, 0, 3, 'Northern Africa', 'http://www.crwflags.com/fotw/images/m/ma.gif'),\n",
              " ('Mozambique', 0, 0, 2, 'Southern Africa', 'http://www.crwflags.com/fotw/images/m/mz.gif')]"
            ]
          },
          "metadata": {
            "tags": []
          },
          "execution_count": 85
        }
      ]
    },
    {
      "cell_type": "code",
      "metadata": {
        "colab": {
          "base_uri": "https://localhost:8080/",
          "height": 391
        },
        "id": "11xj0YN5PUpI",
        "outputId": "01b267ab-68b4-4981-db97-9d730405368c"
      },
      "source": [
        "%%sql\n",
        "SELECT * FROM Interpol WHERE \"National Fugitives\" like '3';"
      ],
      "execution_count": 92,
      "outputs": [
        {
          "output_type": "stream",
          "text": [
            " * sqlite://\n",
            "Done.\n"
          ],
          "name": "stdout"
        },
        {
          "output_type": "execute_result",
          "data": {
            "text/html": [
              "<table>\n",
              "    <thead>\n",
              "        <tr>\n",
              "            <th>Country</th>\n",
              "            <th>National Fugitives</th>\n",
              "            <th>Wanted Fugitives</th>\n",
              "            <th>Possible Hosted Fugitives / Captured Fugitives</th>\n",
              "            <th>Region</th>\n",
              "            <th>Flag</th>\n",
              "        </tr>\n",
              "    </thead>\n",
              "    <tbody>\n",
              "        <tr>\n",
              "            <td>Albania</td>\n",
              "            <td>3</td>\n",
              "            <td>3</td>\n",
              "            <td>0</td>\n",
              "            <td>Europe</td>\n",
              "            <td>http://www.crwflags.com/fotw/images/a/al.gif</td>\n",
              "        </tr>\n",
              "        <tr>\n",
              "            <td>Canada</td>\n",
              "            <td>3</td>\n",
              "            <td>4</td>\n",
              "            <td>2</td>\n",
              "            <td>North America</td>\n",
              "            <td>http://www.crwflags.com/fotw/images/c/ca.gif</td>\n",
              "        </tr>\n",
              "        <tr>\n",
              "            <td>Colombia</td>\n",
              "            <td>3</td>\n",
              "            <td>0</td>\n",
              "            <td>1</td>\n",
              "            <td>South America</td>\n",
              "            <td>http://www.crwflags.com/fotw/images/c/co.gif</td>\n",
              "        </tr>\n",
              "        <tr>\n",
              "            <td>Czech Republic</td>\n",
              "            <td>3</td>\n",
              "            <td>3</td>\n",
              "            <td>0</td>\n",
              "            <td>Europe</td>\n",
              "            <td>http://www.crwflags.com/fotw/images/c/cz.gif</td>\n",
              "        </tr>\n",
              "        <tr>\n",
              "            <td>Mexico</td>\n",
              "            <td>3</td>\n",
              "            <td>0</td>\n",
              "            <td>6</td>\n",
              "            <td>Central America</td>\n",
              "            <td>http://www.crwflags.com/fotw/images/m/mx.gif</td>\n",
              "        </tr>\n",
              "        <tr>\n",
              "            <td>Montenegro</td>\n",
              "            <td>3</td>\n",
              "            <td>2</td>\n",
              "            <td>1</td>\n",
              "            <td>Europe</td>\n",
              "            <td>http://www.crwflags.com/fotw/images/m/me.gif</td>\n",
              "        </tr>\n",
              "        <tr>\n",
              "            <td>South Africa</td>\n",
              "            <td>3</td>\n",
              "            <td>2</td>\n",
              "            <td>4</td>\n",
              "            <td>Southern Africa</td>\n",
              "            <td>http://www.crwflags.com/fotw/images/z/za.gif</td>\n",
              "        </tr>\n",
              "    </tbody>\n",
              "</table>"
            ],
            "text/plain": [
              "[('Albania', 3, 3, 0, 'Europe', 'http://www.crwflags.com/fotw/images/a/al.gif'),\n",
              " ('Canada', 3, 4, 2, 'North America', 'http://www.crwflags.com/fotw/images/c/ca.gif'),\n",
              " ('Colombia', 3, 0, 1, 'South America', 'http://www.crwflags.com/fotw/images/c/co.gif'),\n",
              " ('Czech Republic', 3, 3, 0, 'Europe', 'http://www.crwflags.com/fotw/images/c/cz.gif'),\n",
              " ('Mexico', 3, 0, 6, 'Central America', 'http://www.crwflags.com/fotw/images/m/mx.gif'),\n",
              " ('Montenegro', 3, 2, 1, 'Europe', 'http://www.crwflags.com/fotw/images/m/me.gif'),\n",
              " ('South Africa', 3, 2, 4, 'Southern Africa', 'http://www.crwflags.com/fotw/images/z/za.gif')]"
            ]
          },
          "metadata": {
            "tags": []
          },
          "execution_count": 92
        }
      ]
    },
    {
      "cell_type": "code",
      "metadata": {
        "colab": {
          "base_uri": "https://localhost:8080/",
          "height": 247
        },
        "id": "qhwHictYP_MK",
        "outputId": "d1fa577e-7eb5-4408-9505-89915faf4d07"
      },
      "source": [
        "%%sql\n",
        "SELECT *FROM Interpol WHERE \"Region\" like 'Europe' Limit 5;"
      ],
      "execution_count": 96,
      "outputs": [
        {
          "output_type": "stream",
          "text": [
            " * sqlite://\n",
            "Done.\n"
          ],
          "name": "stdout"
        },
        {
          "output_type": "execute_result",
          "data": {
            "text/html": [
              "<table>\n",
              "    <thead>\n",
              "        <tr>\n",
              "            <th>Country</th>\n",
              "            <th>National Fugitives</th>\n",
              "            <th>Wanted Fugitives</th>\n",
              "            <th>Possible Hosted Fugitives / Captured Fugitives</th>\n",
              "            <th>Region</th>\n",
              "            <th>Flag</th>\n",
              "        </tr>\n",
              "    </thead>\n",
              "    <tbody>\n",
              "        <tr>\n",
              "            <td>Albania</td>\n",
              "            <td>3</td>\n",
              "            <td>3</td>\n",
              "            <td>0</td>\n",
              "            <td>Europe</td>\n",
              "            <td>http://www.crwflags.com/fotw/images/a/al.gif</td>\n",
              "        </tr>\n",
              "        <tr>\n",
              "            <td>Austria</td>\n",
              "            <td>1</td>\n",
              "            <td>1</td>\n",
              "            <td>0</td>\n",
              "            <td>Europe</td>\n",
              "            <td>http://www.crwflags.com/fotw/images/a/at.gif</td>\n",
              "        </tr>\n",
              "        <tr>\n",
              "            <td>Belarus</td>\n",
              "            <td>1</td>\n",
              "            <td>1</td>\n",
              "            <td>0</td>\n",
              "            <td>Europe</td>\n",
              "            <td>http://www.crwflags.com/fotw/images/b/by.gif</td>\n",
              "        </tr>\n",
              "        <tr>\n",
              "            <td>Belgium</td>\n",
              "            <td>0</td>\n",
              "            <td>2</td>\n",
              "            <td>0</td>\n",
              "            <td>Europe</td>\n",
              "            <td>http://www.crwflags.com/fotw/images/b/be.gif</td>\n",
              "        </tr>\n",
              "        <tr>\n",
              "            <td>Croatia</td>\n",
              "            <td>1</td>\n",
              "            <td>1</td>\n",
              "            <td>1</td>\n",
              "            <td>Europe</td>\n",
              "            <td>http://www.crwflags.com/fotw/images/h/hr.gif</td>\n",
              "        </tr>\n",
              "    </tbody>\n",
              "</table>"
            ],
            "text/plain": [
              "[('Albania', 3, 3, 0, 'Europe', 'http://www.crwflags.com/fotw/images/a/al.gif'),\n",
              " ('Austria', 1, 1, 0, 'Europe', 'http://www.crwflags.com/fotw/images/a/at.gif'),\n",
              " ('Belarus', 1, 1, 0, 'Europe', 'http://www.crwflags.com/fotw/images/b/by.gif'),\n",
              " ('Belgium', 0, 2, 0, 'Europe', 'http://www.crwflags.com/fotw/images/b/be.gif'),\n",
              " ('Croatia', 1, 1, 1, 'Europe', 'http://www.crwflags.com/fotw/images/h/hr.gif')]"
            ]
          },
          "metadata": {
            "tags": []
          },
          "execution_count": 96
        }
      ]
    },
    {
      "cell_type": "code",
      "metadata": {
        "colab": {
          "base_uri": "https://localhost:8080/",
          "height": 95
        },
        "id": "95ncVeNmQ75v",
        "outputId": "b346f4db-b7c0-44e6-e17a-fdbb61fb28cb"
      },
      "source": [
        "%%sql\n",
        "SELECT COUNT(DISTINCT Country) FROM interpol;"
      ],
      "execution_count": 97,
      "outputs": [
        {
          "output_type": "stream",
          "text": [
            " * sqlite://\n",
            "Done.\n"
          ],
          "name": "stdout"
        },
        {
          "output_type": "execute_result",
          "data": {
            "text/html": [
              "<table>\n",
              "    <thead>\n",
              "        <tr>\n",
              "            <th>COUNT(DISTINCT Country)</th>\n",
              "        </tr>\n",
              "    </thead>\n",
              "    <tbody>\n",
              "        <tr>\n",
              "            <td>78</td>\n",
              "        </tr>\n",
              "    </tbody>\n",
              "</table>"
            ],
            "text/plain": [
              "[(78,)]"
            ]
          },
          "metadata": {
            "tags": []
          },
          "execution_count": 97
        }
      ]
    },
    {
      "cell_type": "code",
      "metadata": {
        "colab": {
          "base_uri": "https://localhost:8080/",
          "height": 179
        },
        "id": "fiENQuFdRiCo",
        "outputId": "09284f24-797e-4b16-826d-751916ff6ff7"
      },
      "source": [
        "%%sql\n",
        "SELECT DISTINCT Country FROM Interpol Limit 5;"
      ],
      "execution_count": 100,
      "outputs": [
        {
          "output_type": "stream",
          "text": [
            " * sqlite://\n",
            "Done.\n"
          ],
          "name": "stdout"
        },
        {
          "output_type": "execute_result",
          "data": {
            "text/html": [
              "<table>\n",
              "    <thead>\n",
              "        <tr>\n",
              "            <th>Country</th>\n",
              "        </tr>\n",
              "    </thead>\n",
              "    <tbody>\n",
              "        <tr>\n",
              "            <td>Albania</td>\n",
              "        </tr>\n",
              "        <tr>\n",
              "            <td>Angola</td>\n",
              "        </tr>\n",
              "        <tr>\n",
              "            <td>Argentina</td>\n",
              "        </tr>\n",
              "        <tr>\n",
              "            <td>Australia</td>\n",
              "        </tr>\n",
              "        <tr>\n",
              "            <td>Austria</td>\n",
              "        </tr>\n",
              "    </tbody>\n",
              "</table>"
            ],
            "text/plain": [
              "[('Albania',), ('Angola',), ('Argentina',), ('Australia',), ('Austria',)]"
            ]
          },
          "metadata": {
            "tags": []
          },
          "execution_count": 100
        }
      ]
    },
    {
      "cell_type": "code",
      "metadata": {
        "colab": {
          "base_uri": "https://localhost:8080/",
          "height": 197
        },
        "id": "N7Kg8pC3R1DG",
        "outputId": "17957a45-6e75-4338-9baa-b5caabe4fb29"
      },
      "source": [
        "%%sql\n",
        "SELECT * FROM Interpol \n",
        "WHERE Country like 'kenya%';"
      ],
      "execution_count": 101,
      "outputs": [
        {
          "output_type": "stream",
          "text": [
            " * sqlite://\n",
            "Done.\n"
          ],
          "name": "stdout"
        },
        {
          "output_type": "execute_result",
          "data": {
            "text/html": [
              "<table>\n",
              "    <thead>\n",
              "        <tr>\n",
              "            <th>Country</th>\n",
              "            <th>National Fugitives</th>\n",
              "            <th>Wanted Fugitives</th>\n",
              "            <th>Possible Hosted Fugitives / Captured Fugitives</th>\n",
              "            <th>Region</th>\n",
              "            <th>Flag</th>\n",
              "        </tr>\n",
              "    </thead>\n",
              "    <tbody>\n",
              "        <tr>\n",
              "            <td>Kenya</td>\n",
              "            <td>1</td>\n",
              "            <td>1</td>\n",
              "            <td>2</td>\n",
              "            <td>Sub Saharan Africa</td>\n",
              "            <td>http://www.crwflags.com/fotw/images/k/ke.gif</td>\n",
              "        </tr>\n",
              "    </tbody>\n",
              "</table>"
            ],
            "text/plain": [
              "[('Kenya', 1, 1, 2, 'Sub Saharan Africa', 'http://www.crwflags.com/fotw/images/k/ke.gif')]"
            ]
          },
          "metadata": {
            "tags": []
          },
          "execution_count": 101
        }
      ]
    },
    {
      "cell_type": "code",
      "metadata": {
        "colab": {
          "base_uri": "https://localhost:8080/",
          "height": 505
        },
        "id": "X5i4rP5nSMJz",
        "outputId": "402553ce-4090-45e9-80a6-2449d427eb46"
      },
      "source": [
        "%%sql\n",
        "SELECT * FROM Interpol\n",
        "WHERE Country Like 'C%';"
      ],
      "execution_count": 114,
      "outputs": [
        {
          "output_type": "stream",
          "text": [
            " * sqlite://\n",
            "Done.\n"
          ],
          "name": "stdout"
        },
        {
          "output_type": "execute_result",
          "data": {
            "text/html": [
              "<table>\n",
              "    <thead>\n",
              "        <tr>\n",
              "            <th>Country</th>\n",
              "            <th>National Fugitives</th>\n",
              "            <th>Wanted Fugitives</th>\n",
              "            <th>Possible Hosted Fugitives / Captured Fugitives</th>\n",
              "            <th>Region</th>\n",
              "            <th>Flag</th>\n",
              "        </tr>\n",
              "    </thead>\n",
              "    <tbody>\n",
              "        <tr>\n",
              "            <td>Cambodia</td>\n",
              "            <td>0</td>\n",
              "            <td>0</td>\n",
              "            <td>1</td>\n",
              "            <td>Asia</td>\n",
              "            <td>http://www.crwflags.com/fotw/images/k/kh.gif</td>\n",
              "        </tr>\n",
              "        <tr>\n",
              "            <td>Canada</td>\n",
              "            <td>3</td>\n",
              "            <td>4</td>\n",
              "            <td>2</td>\n",
              "            <td>North America</td>\n",
              "            <td>http://www.crwflags.com/fotw/images/c/ca.gif</td>\n",
              "        </tr>\n",
              "        <tr>\n",
              "            <td>Cayman Islands</td>\n",
              "            <td>0</td>\n",
              "            <td>0</td>\n",
              "            <td>1</td>\n",
              "            <td>Central America</td>\n",
              "            <td>http://www.crwflags.com/fotw/images/k/ky.gif</td>\n",
              "        </tr>\n",
              "        <tr>\n",
              "            <td>Chile</td>\n",
              "            <td>1</td>\n",
              "            <td>1</td>\n",
              "            <td>0</td>\n",
              "            <td>South America</td>\n",
              "            <td>http://www.crwflags.com/fotw/images/c/cl.gif</td>\n",
              "        </tr>\n",
              "        <tr>\n",
              "            <td>Colombia</td>\n",
              "            <td>3</td>\n",
              "            <td>0</td>\n",
              "            <td>1</td>\n",
              "            <td>South America</td>\n",
              "            <td>http://www.crwflags.com/fotw/images/c/co.gif</td>\n",
              "        </tr>\n",
              "        <tr>\n",
              "            <td>Congo</td>\n",
              "            <td>0</td>\n",
              "            <td>0</td>\n",
              "            <td>1</td>\n",
              "            <td>Sub Saharan Africa</td>\n",
              "            <td>http://www.crwflags.com/fotw/images/c/cg.gif</td>\n",
              "        </tr>\n",
              "        <tr>\n",
              "            <td>Costa Rica</td>\n",
              "            <td>0</td>\n",
              "            <td>1</td>\n",
              "            <td>2</td>\n",
              "            <td>Central America</td>\n",
              "            <td>http://www.crwflags.com/fotw/images/c/cr.gif</td>\n",
              "        </tr>\n",
              "        <tr>\n",
              "            <td>Croatia</td>\n",
              "            <td>1</td>\n",
              "            <td>1</td>\n",
              "            <td>1</td>\n",
              "            <td>Europe</td>\n",
              "            <td>http://www.crwflags.com/fotw/images/h/hr.gif</td>\n",
              "        </tr>\n",
              "        <tr>\n",
              "            <td>Curaçao</td>\n",
              "            <td>0</td>\n",
              "            <td>1</td>\n",
              "            <td>0</td>\n",
              "            <td>Central America</td>\n",
              "            <td>http://www.crwflags.com/fotw/images/c/cw.gif</td>\n",
              "        </tr>\n",
              "        <tr>\n",
              "            <td>Czech Republic</td>\n",
              "            <td>3</td>\n",
              "            <td>3</td>\n",
              "            <td>0</td>\n",
              "            <td>Europe</td>\n",
              "            <td>http://www.crwflags.com/fotw/images/c/cz.gif</td>\n",
              "        </tr>\n",
              "    </tbody>\n",
              "</table>"
            ],
            "text/plain": [
              "[('Cambodia', 0, 0, 1, 'Asia', 'http://www.crwflags.com/fotw/images/k/kh.gif'),\n",
              " ('Canada', 3, 4, 2, 'North America', 'http://www.crwflags.com/fotw/images/c/ca.gif'),\n",
              " ('Cayman Islands', 0, 0, 1, 'Central America', 'http://www.crwflags.com/fotw/images/k/ky.gif'),\n",
              " ('Chile', 1, 1, 0, 'South America', 'http://www.crwflags.com/fotw/images/c/cl.gif'),\n",
              " ('Colombia', 3, 0, 1, 'South America', 'http://www.crwflags.com/fotw/images/c/co.gif'),\n",
              " ('Congo', 0, 0, 1, 'Sub Saharan Africa', 'http://www.crwflags.com/fotw/images/c/cg.gif'),\n",
              " ('Costa Rica', 0, 1, 2, 'Central America', 'http://www.crwflags.com/fotw/images/c/cr.gif'),\n",
              " ('Croatia', 1, 1, 1, 'Europe', 'http://www.crwflags.com/fotw/images/h/hr.gif'),\n",
              " ('Curaçao', 0, 1, 0, 'Central America', 'http://www.crwflags.com/fotw/images/c/cw.gif'),\n",
              " ('Czech Republic', 3, 3, 0, 'Europe', 'http://www.crwflags.com/fotw/images/c/cz.gif')]"
            ]
          },
          "metadata": {
            "tags": []
          },
          "execution_count": 114
        }
      ]
    },
    {
      "cell_type": "code",
      "metadata": {
        "colab": {
          "base_uri": "https://localhost:8080/",
          "height": 298
        },
        "id": "UiczevL6S2uv",
        "outputId": "08c35b9e-3aa4-444f-bb13-dde5205ad620"
      },
      "source": [
        "%%sql\n",
        "SELECT * FROM Interpol\n",
        "WHERE \"National Fugitives\" BETWEEN 2 AND 3 LIMIT 5;"
      ],
      "execution_count": 116,
      "outputs": [
        {
          "output_type": "stream",
          "text": [
            " * sqlite://\n",
            "Done.\n"
          ],
          "name": "stdout"
        },
        {
          "output_type": "execute_result",
          "data": {
            "text/html": [
              "<table>\n",
              "    <thead>\n",
              "        <tr>\n",
              "            <th>Country</th>\n",
              "            <th>National Fugitives</th>\n",
              "            <th>Wanted Fugitives</th>\n",
              "            <th>Possible Hosted Fugitives / Captured Fugitives</th>\n",
              "            <th>Region</th>\n",
              "            <th>Flag</th>\n",
              "        </tr>\n",
              "    </thead>\n",
              "    <tbody>\n",
              "        <tr>\n",
              "            <td>Albania</td>\n",
              "            <td>3</td>\n",
              "            <td>3</td>\n",
              "            <td>0</td>\n",
              "            <td>Europe</td>\n",
              "            <td>http://www.crwflags.com/fotw/images/a/al.gif</td>\n",
              "        </tr>\n",
              "        <tr>\n",
              "            <td>Argentina</td>\n",
              "            <td>2</td>\n",
              "            <td>2</td>\n",
              "            <td>1</td>\n",
              "            <td>South America</td>\n",
              "            <td>http://www.crwflags.com/fotw/images/a/ar.gif</td>\n",
              "        </tr>\n",
              "        <tr>\n",
              "            <td>Bangladesh</td>\n",
              "            <td>2</td>\n",
              "            <td>1</td>\n",
              "            <td>1</td>\n",
              "            <td>Asia</td>\n",
              "            <td>http://www.crwflags.com/fotw/images/b/bd.gif</td>\n",
              "        </tr>\n",
              "        <tr>\n",
              "            <td>Brazil</td>\n",
              "            <td>2</td>\n",
              "            <td>4</td>\n",
              "            <td>3</td>\n",
              "            <td>South America</td>\n",
              "            <td>http://www.crwflags.com/fotw/images/b/br.gif</td>\n",
              "        </tr>\n",
              "        <tr>\n",
              "            <td>Canada</td>\n",
              "            <td>3</td>\n",
              "            <td>4</td>\n",
              "            <td>2</td>\n",
              "            <td>North America</td>\n",
              "            <td>http://www.crwflags.com/fotw/images/c/ca.gif</td>\n",
              "        </tr>\n",
              "    </tbody>\n",
              "</table>"
            ],
            "text/plain": [
              "[('Albania', 3, 3, 0, 'Europe', 'http://www.crwflags.com/fotw/images/a/al.gif'),\n",
              " ('Argentina', 2, 2, 1, 'South America', 'http://www.crwflags.com/fotw/images/a/ar.gif'),\n",
              " ('Bangladesh', 2, 1, 1, 'Asia', 'http://www.crwflags.com/fotw/images/b/bd.gif'),\n",
              " ('Brazil', 2, 4, 3, 'South America', 'http://www.crwflags.com/fotw/images/b/br.gif'),\n",
              " ('Canada', 3, 4, 2, 'North America', 'http://www.crwflags.com/fotw/images/c/ca.gif')]"
            ]
          },
          "metadata": {
            "tags": []
          },
          "execution_count": 116
        }
      ]
    },
    {
      "cell_type": "code",
      "metadata": {
        "colab": {
          "base_uri": "https://localhost:8080/",
          "height": 285
        },
        "id": "_1A1EWVSVNR3",
        "outputId": "37e02546-3146-4c45-f483-c3d73d46a15b"
      },
      "source": [
        "%%sql\n",
        "SELECT * FROM Interpol WHERE \"Region\" like 'Asia%' lIMIT 6;"
      ],
      "execution_count": 121,
      "outputs": [
        {
          "output_type": "stream",
          "text": [
            " * sqlite://\n",
            "Done.\n"
          ],
          "name": "stdout"
        },
        {
          "output_type": "execute_result",
          "data": {
            "text/html": [
              "<table>\n",
              "    <thead>\n",
              "        <tr>\n",
              "            <th>Country</th>\n",
              "            <th>National Fugitives</th>\n",
              "            <th>Wanted Fugitives</th>\n",
              "            <th>Possible Hosted Fugitives / Captured Fugitives</th>\n",
              "            <th>Region</th>\n",
              "            <th>Flag</th>\n",
              "        </tr>\n",
              "    </thead>\n",
              "    <tbody>\n",
              "        <tr>\n",
              "            <td>Bangladesh</td>\n",
              "            <td>2</td>\n",
              "            <td>1</td>\n",
              "            <td>1</td>\n",
              "            <td>Asia</td>\n",
              "            <td>http://www.crwflags.com/fotw/images/b/bd.gif</td>\n",
              "        </tr>\n",
              "        <tr>\n",
              "            <td>Cambodia</td>\n",
              "            <td>0</td>\n",
              "            <td>0</td>\n",
              "            <td>1</td>\n",
              "            <td>Asia</td>\n",
              "            <td>http://www.crwflags.com/fotw/images/k/kh.gif</td>\n",
              "        </tr>\n",
              "        <tr>\n",
              "            <td>Georgia, Asia</td>\n",
              "            <td>2</td>\n",
              "            <td>2</td>\n",
              "            <td>0</td>\n",
              "            <td>Asia</td>\n",
              "            <td>http://www.crwflags.com/fotw/images/g/ge.gif</td>\n",
              "        </tr>\n",
              "        <tr>\n",
              "            <td>India</td>\n",
              "            <td>0</td>\n",
              "            <td>0</td>\n",
              "            <td>1</td>\n",
              "            <td>Asia</td>\n",
              "            <td>http://www.crwflags.com/fotw/images/i/in.gif</td>\n",
              "        </tr>\n",
              "        <tr>\n",
              "            <td>Indonesia</td>\n",
              "            <td>1</td>\n",
              "            <td>1</td>\n",
              "            <td>0</td>\n",
              "            <td>Asia</td>\n",
              "            <td>http://www.crwflags.com/fotw/images/i/id.gif</td>\n",
              "        </tr>\n",
              "        <tr>\n",
              "            <td>Iraq</td>\n",
              "            <td>1</td>\n",
              "            <td>0</td>\n",
              "            <td>1</td>\n",
              "            <td>Asia</td>\n",
              "            <td>http://www.crwflags.com/fotw/images/i/iq.gif</td>\n",
              "        </tr>\n",
              "    </tbody>\n",
              "</table>"
            ],
            "text/plain": [
              "[('Bangladesh', 2, 1, 1, 'Asia', 'http://www.crwflags.com/fotw/images/b/bd.gif'),\n",
              " ('Cambodia', 0, 0, 1, 'Asia', 'http://www.crwflags.com/fotw/images/k/kh.gif'),\n",
              " ('Georgia, Asia', 2, 2, 0, 'Asia', 'http://www.crwflags.com/fotw/images/g/ge.gif'),\n",
              " ('India', 0, 0, 1, 'Asia', 'http://www.crwflags.com/fotw/images/i/in.gif'),\n",
              " ('Indonesia', 1, 1, 0, 'Asia', 'http://www.crwflags.com/fotw/images/i/id.gif'),\n",
              " ('Iraq', 1, 0, 1, 'Asia', 'http://www.crwflags.com/fotw/images/i/iq.gif')]"
            ]
          },
          "metadata": {
            "tags": []
          },
          "execution_count": 121
        }
      ]
    },
    {
      "cell_type": "code",
      "metadata": {
        "colab": {
          "base_uri": "https://localhost:8080/",
          "height": 304
        },
        "id": "gDVWSYSHVmoc",
        "outputId": "9c350e12-dbc2-45ba-f2eb-218fac91eed4"
      },
      "source": [
        "%%sql\n",
        "SELECT *FROM SGR\n",
        "WHERE \"total_bedrooms\" BETWEEN 100 AND 200 lIMIT 10;"
      ],
      "execution_count": 131,
      "outputs": [
        {
          "output_type": "stream",
          "text": [
            " * sqlite://\n",
            "Done.\n"
          ],
          "name": "stdout"
        },
        {
          "output_type": "execute_result",
          "data": {
            "text/html": [
              "<table>\n",
              "    <thead>\n",
              "        <tr>\n",
              "            <th>longitude</th>\n",
              "            <th>latitude</th>\n",
              "            <th>housing_median_age</th>\n",
              "            <th>total_rooms</th>\n",
              "            <th>total_bedrooms</th>\n",
              "            <th>population</th>\n",
              "            <th>households</th>\n",
              "            <th>median_income</th>\n",
              "            <th>median_house_value</th>\n",
              "        </tr>\n",
              "    </thead>\n",
              "    <tbody>\n",
              "        <tr>\n",
              "            <td>-114.56</td>\n",
              "            <td>33.69</td>\n",
              "            <td>17.0</td>\n",
              "            <td>720.0</td>\n",
              "            <td>174.0</td>\n",
              "            <td>333.0</td>\n",
              "            <td>117.0</td>\n",
              "            <td>1.6509</td>\n",
              "            <td>85700.0</td>\n",
              "        </tr>\n",
              "        <tr>\n",
              "            <td>-114.59</td>\n",
              "            <td>34.83</td>\n",
              "            <td>41.0</td>\n",
              "            <td>812.0</td>\n",
              "            <td>168.0</td>\n",
              "            <td>375.0</td>\n",
              "            <td>158.0</td>\n",
              "            <td>1.7083</td>\n",
              "            <td>48500.0</td>\n",
              "        </tr>\n",
              "        <tr>\n",
              "            <td>-115.32</td>\n",
              "            <td>32.82</td>\n",
              "            <td>34.0</td>\n",
              "            <td>591.0</td>\n",
              "            <td>139.0</td>\n",
              "            <td>327.0</td>\n",
              "            <td>89.0</td>\n",
              "            <td>3.6528</td>\n",
              "            <td>100000.0</td>\n",
              "        </tr>\n",
              "        <tr>\n",
              "            <td>-115.37</td>\n",
              "            <td>32.81</td>\n",
              "            <td>32.0</td>\n",
              "            <td>741.0</td>\n",
              "            <td>191.0</td>\n",
              "            <td>623.0</td>\n",
              "            <td>169.0</td>\n",
              "            <td>1.7604</td>\n",
              "            <td>68600.0</td>\n",
              "        </tr>\n",
              "        <tr>\n",
              "            <td>-115.39</td>\n",
              "            <td>32.76</td>\n",
              "            <td>16.0</td>\n",
              "            <td>1136.0</td>\n",
              "            <td>196.0</td>\n",
              "            <td>481.0</td>\n",
              "            <td>185.0</td>\n",
              "            <td>6.2558</td>\n",
              "            <td>146300.0</td>\n",
              "        </tr>\n",
              "        <tr>\n",
              "            <td>-115.4</td>\n",
              "            <td>32.86</td>\n",
              "            <td>19.0</td>\n",
              "            <td>1087.0</td>\n",
              "            <td>171.0</td>\n",
              "            <td>649.0</td>\n",
              "            <td>173.0</td>\n",
              "            <td>3.3182</td>\n",
              "            <td>113800.0</td>\n",
              "        </tr>\n",
              "        <tr>\n",
              "            <td>-115.4</td>\n",
              "            <td>32.7</td>\n",
              "            <td>19.0</td>\n",
              "            <td>583.0</td>\n",
              "            <td>113.0</td>\n",
              "            <td>531.0</td>\n",
              "            <td>134.0</td>\n",
              "            <td>1.6838</td>\n",
              "            <td>95800.0</td>\n",
              "        </tr>\n",
              "        <tr>\n",
              "            <td>-115.49</td>\n",
              "            <td>32.87</td>\n",
              "            <td>19.0</td>\n",
              "            <td>541.0</td>\n",
              "            <td>104.0</td>\n",
              "            <td>457.0</td>\n",
              "            <td>106.0</td>\n",
              "            <td>3.3583</td>\n",
              "            <td>102800.0</td>\n",
              "        </tr>\n",
              "        <tr>\n",
              "            <td>-115.52</td>\n",
              "            <td>34.22</td>\n",
              "            <td>30.0</td>\n",
              "            <td>540.0</td>\n",
              "            <td>136.0</td>\n",
              "            <td>122.0</td>\n",
              "            <td>63.0</td>\n",
              "            <td>1.3333</td>\n",
              "            <td>42500.0</td>\n",
              "        </tr>\n",
              "        <tr>\n",
              "            <td>-115.53</td>\n",
              "            <td>34.91</td>\n",
              "            <td>12.0</td>\n",
              "            <td>807.0</td>\n",
              "            <td>199.0</td>\n",
              "            <td>246.0</td>\n",
              "            <td>102.0</td>\n",
              "            <td>2.5391</td>\n",
              "            <td>40000.0</td>\n",
              "        </tr>\n",
              "    </tbody>\n",
              "</table>"
            ],
            "text/plain": [
              "[(-114.56, 33.69, 17.0, 720.0, 174.0, 333.0, 117.0, 1.6509, 85700.0),\n",
              " (-114.59, 34.83, 41.0, 812.0, 168.0, 375.0, 158.0, 1.7083, 48500.0),\n",
              " (-115.32, 32.82, 34.0, 591.0, 139.0, 327.0, 89.0, 3.6528, 100000.0),\n",
              " (-115.37, 32.81, 32.0, 741.0, 191.0, 623.0, 169.0, 1.7604, 68600.0),\n",
              " (-115.39, 32.76, 16.0, 1136.0, 196.0, 481.0, 185.0, 6.2558, 146300.0),\n",
              " (-115.4, 32.86, 19.0, 1087.0, 171.0, 649.0, 173.0, 3.3182, 113800.0),\n",
              " (-115.4, 32.7, 19.0, 583.0, 113.0, 531.0, 134.0, 1.6838, 95800.0),\n",
              " (-115.49, 32.87, 19.0, 541.0, 104.0, 457.0, 106.0, 3.3583, 102800.0),\n",
              " (-115.52, 34.22, 30.0, 540.0, 136.0, 122.0, 63.0, 1.3333, 42500.0),\n",
              " (-115.53, 34.91, 12.0, 807.0, 199.0, 246.0, 102.0, 2.5391, 40000.0)]"
            ]
          },
          "metadata": {
            "tags": []
          },
          "execution_count": 131
        }
      ]
    },
    {
      "cell_type": "code",
      "metadata": {
        "colab": {
          "base_uri": "https://localhost:8080/",
          "height": 200
        },
        "id": "Grfx572LWnG8",
        "outputId": "ff982bc1-247a-489e-cad2-d37c64604c0d"
      },
      "source": [
        "%%sql\n",
        "SELECT population AS people\n",
        "FROM SGR LIMIT 6; \n"
      ],
      "execution_count": 130,
      "outputs": [
        {
          "output_type": "stream",
          "text": [
            " * sqlite://\n",
            "Done.\n"
          ],
          "name": "stdout"
        },
        {
          "output_type": "execute_result",
          "data": {
            "text/html": [
              "<table>\n",
              "    <thead>\n",
              "        <tr>\n",
              "            <th>people</th>\n",
              "        </tr>\n",
              "    </thead>\n",
              "    <tbody>\n",
              "        <tr>\n",
              "            <td>1129.0</td>\n",
              "        </tr>\n",
              "        <tr>\n",
              "            <td>333.0</td>\n",
              "        </tr>\n",
              "        <tr>\n",
              "            <td>515.0</td>\n",
              "        </tr>\n",
              "        <tr>\n",
              "            <td>624.0</td>\n",
              "        </tr>\n",
              "        <tr>\n",
              "            <td>671.0</td>\n",
              "        </tr>\n",
              "        <tr>\n",
              "            <td>1841.0</td>\n",
              "        </tr>\n",
              "    </tbody>\n",
              "</table>"
            ],
            "text/plain": [
              "[(1129.0,), (333.0,), (515.0,), (624.0,), (671.0,), (1841.0,)]"
            ]
          },
          "metadata": {
            "tags": []
          },
          "execution_count": 130
        }
      ]
    },
    {
      "cell_type": "code",
      "metadata": {
        "id": "qs6BeTZ9Xlne"
      },
      "source": [
        ""
      ],
      "execution_count": null,
      "outputs": []
    }
  ]
}